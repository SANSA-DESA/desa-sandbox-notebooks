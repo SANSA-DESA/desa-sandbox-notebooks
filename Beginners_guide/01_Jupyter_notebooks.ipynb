{
 "cells": [
  {
   "cell_type": "markdown",
   "metadata": {},
   "source": [
    "# Introduction to Jupyter notebooks\n",
    "\n",
    "- **Prerequisites**:\n",
    "    - There is no prerequisite learning required, as this document is designed for a novice user of the Jupyter\n",
    "    environment\n",
    "\n",
    "\n",
    "## Background\n",
    "\n",
    "Access to implementations of the [Open Data Cube] such as [Digital Earth Africa] and [Digital Earth Australia] is\n",
    "achieved through the use of Python code and [Jupyter Notebooks].\n",
    "\n",
    "The Jupyter Notebook (also termed notebook from here onwards) is an interactive web application that allows for the\n",
    "viewing, creation and documentation of live code.\n",
    "\n",
    "Notebook applications include data transformation, visualisation, modelling and machine learning.\n",
    "The default web interface to access notebooks when using Digital Earth Africa is [JupyterLab].\n",
    "\n",
    "[Open Data Cube]: https://www.opendatacube.org/\n",
    "[Digital Earth Africa]: https://www.digitalearthafrica.org/\n",
    "[Digital Earth Australia]: https://www.ga.gov.au/dea\n",
    "[Jupyter Notebooks]: https://jupyterlab.readthedocs.io/en/stable/user/notebook.html\n",
    "[JupyterLab]: https://jupyterlab.readthedocs.io/en/stable/\n",
    "\n",
    "\n",
    "## Description\n",
    "\n",
    "This notebook is designed to introduce users to the basics of using Python code in Jupyter Notebooks via JupyterLab.\n",
    "\n",
    "Topics covered include:\n",
    "\n",
    "* How to run (execute) a Jupyter Notebook cell\n",
    "* The different types of Jupyter Notebook cells\n",
    "* Stopping a process or restarting a Jupyter Notebook\n",
    "* Saving and exporting your work\n",
    "* Starting a new Jupyter Notebook\n",
    "\n",
    "\n",
    "## Getting started\n",
    "\n",
    "\n",
    "### Running (executing) a cell\n",
    "\n",
    "Jupyter Notebooks allow code to be separated into sections that can be executed independent of one another.\n",
    "These sections are called \"cells\".\n",
    "\n",
    "Python code is written into individual cells that can be executed by placing the cursor in the cell and typing\n",
    "`Shift-Enter` on the keyboard or selecting the &#9658; \"run\" button in the ribbon at the top of the notebook.\n",
    "These options will run a single cell at a time.\n",
    "\n",
    "If you wish to auto-run all cells in a notebook, navigate to the \"Run\" tab of the menu bar at the top of JupyterLab\n",
    "and select \"Run All Cells\" (or the option that best suits your needs).\n",
    "\n",
    "When you run a cell, you are executing that cell's content. Any output produced from running the cell will appear\n",
    "directly below it.\n",
    "\n",
    "Run the cell below:"
   ]
  },
  {
   "cell_type": "code",
   "execution_count": 1,
   "metadata": {},
   "outputs": [
    {
     "name": "stdout",
     "output_type": "stream",
     "text": [
      "I ran a cell!\n"
     ]
    }
   ],
   "source": [
    "print (\"I ran a cell!\")"
   ]
  },
  {
   "cell_type": "markdown",
   "metadata": {},
   "source": [
    "### Cell status\n",
    "\n",
    "The `[ ]:` symbol to the left of each Code cell describes the state of the cell:\n",
    "\n",
    "* `[ ]:` means that the cell has not been run yet.\n",
    "* `[*]:` means that the cell is currently running.\n",
    "* `[1]:` means that the cell has finished running and was the first cell run.\n",
    "\n",
    "The number indicates the order that the cells were run in.\n",
    "\n",
    "> **Note:** You can also tell whether a cell is currently executing in a Jupyter notebook by inspecting the small\n",
    "> circle in the top-right of the window. The circle will turn grey (\"Kernel busy\") when the cell is running, and\n",
    "> return to empty (\"Kernel idle\") when the process is complete.\n",
    "\n",
    "\n",
    "## Jupyter notebook cell types\n",
    "\n",
    "Cells are identified as either Code, Markdown, or Raw. \n",
    "This designation can be changed using the ribbon at the top of the notebook.\n",
    "\n",
    "\n",
    "### Code cells\n",
    "\n",
    "All code operations are performed in Code cells. \n",
    "Code cells can be used to edit and write new code, and perform tasks like loading data, plotting data and running\n",
    "analyses.\n",
    "\n",
    "Click on the cell below. Note that the ribbon at the top of the notebook describes it as a Code cell."
   ]
  },
  {
   "cell_type": "code",
   "execution_count": 2,
   "metadata": {},
   "outputs": [
    {
     "name": "stdout",
     "output_type": "stream",
     "text": [
      "This is a code cell\n"
     ]
    }
   ],
   "source": [
    "print(\"This is a code cell\")"
   ]
  },
  {
   "cell_type": "markdown",
   "metadata": {},
   "source": [
    "### Markdown cells\n",
    "\n",
    "Place the cursor in this cell by double clicking.\n",
    "\n",
    "The cell format has changed to allow for editing. \n",
    "Note that the ribbon at the top of the notebook describes this as a Markdown cell.\n",
    "\n",
    "Run this cell to return the formatted version.\n",
    "\n",
    "Markdown cells provide the narrative to a notebook.\n",
    "They are used for text and are useful to describe the code operations in the following cells. \n",
    "To see some of the formatting options for text in a Markdown cell, navigate to the \"Help\" tab of the menu bar at the\n",
    "top of JupyterLab and select \"Markdown Reference\". Here you will see a wide range of text formatting options including\n",
    "headings, dot points, italics, hyperlinking and creating tables.\n",
    "\n",
    "\n",
    "### Raw cells\n",
    "\n",
    "Information in Raw cells is stored in the notebook metadata and can be used to render different code formats into HTML\n",
    "or $\\LaTeX$. There are a range of available Raw cell formats that differ depending on how they are to be rendered.\n",
    "For the purposes of this beginner's guide, raw cells are rarely used by the authors and not required for most\n",
    "notebook users.\n",
    "\n",
    "\n",
    "## Stopping a process or restarting a Jupyter Notebook\n",
    "Sometimes it can be useful to stop a cell execution before it finishes (e.g. if a process is taking too long to\n",
    "complete, or if you realise you need to modify some code before running the cell). To interrupt a cell execution, you\n",
    "can click the &#9632; \"stop\" button in the ribbon above the notebook, or select \"Interrupt Kernel\" from the Kernel menu.\n",
    "\n",
    "To test this, run the following code cell.\n",
    "\n",
    "This will run a piece of code that will take 20 seconds to complete.\n",
    "To interrupt this code, press the &#9632; \"stop\" button. \n",
    "The notebook should stop executing the cell.\n"
   ]
  },
  {
   "cell_type": "code",
   "execution_count": 3,
   "metadata": {},
   "outputs": [],
   "source": [
    "import time\n",
    "time.sleep(20)"
   ]
  },
  {
   "cell_type": "markdown",
   "metadata": {
    "pycharm": {
     "name": "#%% md\n"
    }
   },
   "source": [
    "If the approach above does not work (e.g. if the notebook has frozen or refuses to respond), you can also try\n",
    "restarting the entire notebook. To do this, navigate to the \"Kernel\" tab of the menu bar, then select \"Restart Kernel\".\n",
    "Alternatively, click the &#x21bb; \"Restart the kernel\" button in the ribbon above the notebook.\n",
    "\n",
    "Restarting a notebook can also be useful for testing whether your code will work correctly the first time a new user\n",
    "tries to run the notebook. To restart and then run every cell in a notebook, navigate to the \"Kernel\" tab, then\n",
    "select \"Restart and Run All Cells\".\n",
    "\n",
    "\n",
    "## Saving and exporting your work\n",
    "\n",
    "Modifications to Jupyter Notebooks are automatically saved every few minutes.\n",
    "However, you can force a notebook to save by navigating to \"File\" in the menu bar, then selecting \"Save Notebook\".\n",
    "Alternatively, click the &#128190; \"save\" icon on the left of the ribbon above the notebook.\n",
    "\n",
    "\n",
    "### Exporting Jupyter Notebooks to Python scripts\n",
    "\n",
    "The standard file extension for a Jupyter Notebook is `.ipynb`.\n",
    "\n",
    "There are a range of export options that allow you to save your work for access outside of the Jupyter environment. \n",
    "Python code for example can easily be saved as `.py` Python scripts by navigating to the \"File\" tab of the menu bar in\n",
    "JupyterLab and selecting \"Export Notebook As\" followed by \"Export Notebook To Executable Script\".\n",
    "\n",
    "\n",
    "## Starting a new notebook\n",
    "\n",
    "To create a new notebook of your own, first use JupyterLab's file browser to navigate to the directory you would like\n",
    "the notebook to be created in (if the file browser is not visible, re-open it by clicking on the &#128193;\n",
    "\"File browser\" icon at the top-left of the screen).\n",
    "\n",
    "Once you have navigated to your desired location, press the &#10010; \"New Launcher\" button above the browser. \n",
    "This will bring up JupyterLab's \"Launcher\" page which allows you to launch a range of new files or utilities. \n",
    "Below the heading \"Notebook\", click the large \"Python 3\" button.\n",
    "This will create a new notebook entitled \"Untitled.ipynb\" in your directory.\n",
    "\n",
    "To rename this notebook to something more useful, right-click on it in the file browser and select \"Rename\".\n",
    "\n",
    "\n",
    "## Recommended next steps\n",
    "\n",
    "For more advanced information about working with Jupyter Notebooks or JupyterLab, you can\n",
    "explore [JupyterLab documentation page](https://jupyterlab.readthedocs.io/en/stable/user/notebook.html).\n",
    "\n",
    "To continue working through the notebooks in this beginner's guide, the following notebooks are designed to be worked\n",
    "through in the following order:\n",
    "\n",
    "1. **Jupyter Notebooks (this notebook)**\n",
    "2. [Products and Measurements](02_Products_and_measurements.ipynb)\n",
    "3. [Loading data](03_Loading_data.ipynb)\n",
    "4. [Plotting](04_Plotting.ipynb)\n",
    "5. [Performing a basic analysis](05_Basic_analysis.ipynb)\n",
    "6. [Introduction to numpy](06_Intro_to_numpy.ipynb)\n",
    "7. [Introduction to xarray](07_Intro_to_xarray.ipynb)\n",
    "8. [Parallel processing with Dask](08_Parallel_processing_with_dask.ipynb)\n",
    "\n",
    "Once you have completed the above six tutorials, join advanced users in exploring:\n",
    "\n",
    "- The \"Datasets\" directory in the repository, where you can explore DE Africa products in depth.\n",
    "- The \"Frequently used code\" directory, which contains a recipe book of common techniques and methods for analysing\n",
    "  DE Africa data.\n",
    "- The \"Real-world examples\" directory, which provides more complex workflows and analysis case studies."
   ]
  }
 ],
 "metadata": {
  "kernelspec": {
   "display_name": "Python 3",
   "language": "python",
   "name": "python3"
  },
  "language_info": {
   "codemirror_mode": {
    "name": "ipython",
    "version": 3
   },
   "file_extension": ".py",
   "mimetype": "text/x-python",
   "name": "python",
   "nbconvert_exporter": "python",
   "pygments_lexer": "ipython3",
   "version": "3.6.9"
  },
  "widgets": {
   "application/vnd.jupyter.widget-state+json": {
    "state": {},
    "version_major": 2,
    "version_minor": 0
   }
  }
 },
 "nbformat": 4,
 "nbformat_minor": 4
}