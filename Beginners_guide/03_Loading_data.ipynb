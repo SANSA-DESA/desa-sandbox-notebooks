{
 "cells": [
  {
   "cell_type": "markdown",
   "metadata": {},
   "source": [
    "# Loading data from DESA\n",
    "\n",
    "- **Products used:**\n",
    "[ga_ls8c_gm_2_annual](https://explorer.digitalearth.africa/ga_ls8c_gm_2_annual), \n",
    "[ga_ls8c_wofs_2_annual_summary](https://explorer.digitalearth.africa/ga_ls8c_wofs_2_annual_summary)\n",
    "\n",
    "- **Prerequisites:** Users of this notebook should have a basic understanding of:\n",
    "  - How to run a [Jupyter notebook](01_Jupyter_notebooks.ipynb)\n",
    "  - Inspecting available [DE Africa products and measurements](02_Products_and_measurements.ipynb)\n",
    "\n",
    "\n",
    "## Background\n",
    "\n",
    "Loading data from the [Digital Earth Africa (DE Africa)] instance of the [Open Data Cube] requires the construction of\n",
    "a data query that specifies the what, where, and when of the data request.\n",
    "Each query returns a [multi-dimensional xarray object] containing the contents of your query.\n",
    "It is essential to understand the `xarray` data structures as they are fundamental to the structure of data loaded\n",
    "from the datacube.\n",
    "Manipulations, transformations and visualisation of `xarray` objects provide datacube users with the ability to\n",
    "explore and analyse DESA datasets, as well as pose and answer scientific questions.\n",
    "\n",
    "[Digital Earth Africa (DE Africa)]: https://www.digitalearthafrica.org/\n",
    "[Open Data Cube]: https://www.opendatacube.org/\n",
    "[multi-dimensional xarray object]: http://xarray.pydata.org/en/stable/\n",
    "\n",
    "\n",
    "## Description\n",
    "\n",
    "This notebook will introduce how to load data from the DESA datacube through the construction of a query and use of\n",
    "the `dc.load()` function.\n",
    "\n",
    "Topics covered include:\n",
    "\n",
    "- Loading data using `dc.load()`\n",
    "- Interpreting the resulting `xarray.Dataset` object\n",
    "  - Inspecting an individual `xarray.DataArray`\n",
    "- Customising parameters passed to the `dc.load()` function\n",
    "  - Loading specific measurements\n",
    "  - Loading data for coordinates in a custom coordinate reference system (CRS)\n",
    "  - Projecting data to a new CRS and spatial resolution\n",
    "  - Specifying a specific spatial resampling method\n",
    "- Loading data using a reusable dictionary query\n",
    "- Loading matching data from multiple products using `like`\n",
    "- Adding a progress bar to the data load\n",
    "\n",
    "\n",
    "## Getting started\n",
    "\n",
    "To run this introduction to loading data from DESA, run all the cells in the notebook starting with the\n",
    "\"Load packages\" cell. For help with running notebook cells, refer back to the [Jupyter Notebooks notebook](01_Jupyter_notebooks.ipynb).\n",
    "\n",
    "\n",
    "### Load packages\n",
    "\n",
    "First we need to load the `datacube` package.\n",
    "This will allow us to query the datacube database and load some data. \n",
    "The `with_ui_cbk` function from `odc.ui` will allow us to show a progress bar when loading large amounts of data."
   ]
  },
  {
   "cell_type": "code",
   "execution_count": null,
   "metadata": {},
   "outputs": [],
   "source": [
    "import datacube\n",
    "from odc.ui import with_ui_cbk"
   ]
  },
  {
   "cell_type": "markdown",
   "metadata": {},
   "source": [
    "### Connect to the datacube\n",
    "\n",
    "We then need to connect to the datacube database.\n",
    "We will then be able to use the `dc` datacube object to load data.\n",
    "The `app` parameter is a unique name used to identify the notebook that does not have any effect on the analysis."
   ]
  },
  {
   "cell_type": "code",
   "execution_count": null,
   "metadata": {},
   "outputs": [],
   "source": [
    "dc = datacube.Datacube(\n",
    "    app=\"03_Loading_data\",\n",
    "    env=\"sandbox\",\n",
    ")"
   ]
  },
  {
   "cell_type": "markdown",
   "metadata": {},
   "source": [
    "## Loading data using `dc.load()`\n",
    "\n",
    "Loading data from the datacube uses the [dc.load()] function. The function requires the following minimum arguments:\n",
    "\n",
    "- `product`: A specific product to load;\n",
    "- `x`: Defines the spatial region in the *x* dimension. By default, the *x* and *y* arguments accept queries in a\n",
    "  geographical co-ordinate system WGS84, identified by the EPSG code *4326*.\n",
    "- `y`: Defines the spatial region in the *y* dimension. The dimensions ``longitude``/``latitude`` and ``x``/``y`` can\n",
    "  be used interchangeably.\n",
    "- `time`: Defines the temporal extent. The time dimension can be specified using a tuple of datetime objects or\n",
    "  strings in the \"YYYY\", \"YYYY-MM\" or \"YYYY-MM-DD\" format.\n",
    "\n",
    "Let's run a query to load 2016 data from the [SPOT6 Gauteng product]. For this example, we can use the following\n",
    "parameters:\n",
    "\n",
    "[dc.load()]: https://datacube-core.readthedocs.io/en/latest/dev/api/generate/datacube.Datacube.load.html"
   ]
  },
  {
   "cell_type": "code",
   "execution_count": null,
   "metadata": {},
   "outputs": [],
   "source": [
    "product = \"spot6_ard_scene\"\n",
    "geo_roi = (\n",
    "    (28.1637432796654927,-26.0706436082549331),\n",
    "    (28.2172061868093316,-26.0299428144293010)\n",
    ")\n",
    "temporal_roi = (\"2016-03-01\", \"2016-04-30\")"
   ]
  },
  {
   "cell_type": "code",
   "execution_count": null,
   "metadata": {
    "pycharm": {
     "name": "#%%\n"
    }
   },
   "outputs": [],
   "source": [
    "ds = dc.load(\n",
    "    product=product,\n",
    "    x=(geo_roi[0][0], geo_roi[1][0]),\n",
    "    y=(geo_roi[0][1], geo_roi[1][1]),\n",
    "    time=temporal_roi\n",
    ")\n",
    "\n",
    "print(ds)"
   ]
  },
  {
   "cell_type": "markdown",
   "metadata": {},
   "source": [
    "### Interpreting the resulting `xarray.Dataset`\n",
    "\n",
    "The variable `ds` has returned an `xarray.Dataset` containing all data that matched the spatial and temporal query\n",
    "parameters inputted into `dc.load`.\n",
    "\n",
    "- *Dimensions* - Identifies the number of timesteps returned in the search (`time: 1`) as well as the number of pixels\n",
    "  in the `x` and `y` directions of the data query.\n",
    "\n",
    "- *Coordinates*\n",
    "  - `time` identifies the date attributed to each returned timestep.\n",
    "  - `x` and `y` are the coordinates for each pixel within the spatial bounds of your query.\n",
    "\n",
    "- *Data variables* - These are the measurements available for the nominated product. For every date (`time`) returned\n",
    "  by the query, the measured value at each pixel (`y`, `x`) is returned as an array for each measurement. Each data\n",
    "  variable is itself an `xarray.DataArray` object ([see below](#Inspecting-an-individual-xarray.DataArray)).\n",
    "\n",
    "*Attributes* - `crs` identifies the coordinate reference system (CRS) of the loaded data.\n",
    "\n",
    "\n",
    "### Inspecting an individual `xarray.DataArray`\n",
    "\n",
    "The `xarray.Dataset` we loaded above is itself a collection of individual `xarray.DataArray` objects that hold the\n",
    "actual data for each data variable/measurement. For example, all measurements listed under _Data variables_ above\n",
    "(e.g. `blue`, `green`, `red`, `nir`, `swir1`, `swir2`) are `xarray.DataArray` objects.\n",
    "\n",
    "We can inspect the data in these `xarray.DataArray` objects using either of the following syntaxes:\n",
    "\n",
    "```\n",
    "ds[\"measurement_name\"]\n",
    "```\n",
    "\n",
    "or:\n",
    "\n",
    "```\n",
    "ds.measurement_name\n",
    "```\n",
    "\n",
    "Being able to access data from individual data variables/measurements allows us to manipulate and analyse data from\n",
    "individual satellite bands or specific layers in a dataset. For example, we can access data from the near infra-red\n",
    "satellite band (i.e. `nir`):"
   ]
  },
  {
   "cell_type": "code",
   "execution_count": null,
   "metadata": {},
   "outputs": [],
   "source": [
    "print(ds.nir)"
   ]
  },
  {
   "cell_type": "markdown",
   "metadata": {},
   "source": [
    "Note that the object header informs us that it is an `xarray.DataArray` containing data for the `nir` satellite band. \n",
    "\n",
    "Like an `xarray.Dataset`, the array also includes information about the data's **dimensions** (i.e.\n",
    "`(time: 1, y: 801, x: 644)`), **coordinates** and **attributes**. This particular data variable/measurement contains\n",
    "some additional information that is specific to the `nir` band, including details of array's nodata\n",
    "value (i.e. `nodata: -999`).\n",
    "\n",
    "> **Note**: For a more in-depth introduction to `xarray` data structures, refer to the [official xarray documentation].\n",
    "\n",
    "[official xarray documentation]: http://xarray.pydata.org/en/stable/data-structures.html\n",
    "\n",
    "\n",
    "## Customising the `dc.load()` function\n",
    "\n",
    "The `dc.load()` function can be tailored to refine a query.\n",
    "\n",
    "Customisation options include:\n",
    "\n",
    "- `measurements:` This argument is used to provide a list of measurement names to load, as listed in\n",
    "  `dc.list_measurements()`. For satellite datasets, measurements contain data for each individual satellite band\n",
    "  (e.g. near infrared). If not provided, all measurements for the product will be returned.\n",
    "- `crs:` The coordinate reference system (CRS) of the query's `x` and `y` coordinates is assumed to be\n",
    "  `WGS84`/`EPSG:4326` unless the `crs` field is supplied, even if the stored data is in another projection or\n",
    "  the `output_crs` is specified. The `crs` parameter is required if your query's coordinates are in any other CRS.\n",
    "- `group_by:` Satellite datasets based around scenes can have multiple observations per day with slightly different\n",
    "  time stamps as the satellite collects data along its path. These observations can be combined by reducing the\n",
    "  `time` dimension to the day level using `group_by=solar_day`.\n",
    "- `output_crs` and `resolution`: To reproject or change the resolution the data, supply the `output_crs` and\n",
    "  `resolution` fields.\n",
    "- `resampling`: This argument allows you to specify a custom spatial resampling method to use when data is\n",
    "  reprojected into a different CRS.\n",
    "\n",
    "Example syntax on the use of these options follows in the cells below.\n",
    "\n",
    "> For help or more customisation options, run `help(dc.load)` in an empty cell or visit the\n",
    "> function's [documentation page]\n",
    "\n",
    "[documentation page]: https://datacube-core.readthedocs.io/en/latest/dev/api/generate/datacube.Datacube.load.html\n",
    "\n",
    "\n",
    "### Specifying measurements\n",
    "\n",
    "By default, `dc.load()` will load *all* measurements in a product.\n",
    "\n",
    "To load data from the `red`, `green` and `blue` satellite bands only, we can add\n",
    "`measurements=[\"red\", \"green\", \"blue\"]` to our query:"
   ]
  },
  {
   "cell_type": "code",
   "execution_count": null,
   "metadata": {},
   "outputs": [],
   "source": [
    "# Note the optional inclusion of the measurements list\n",
    "ds_rgb = dc.load(\n",
    "    product=product,\n",
    "    measurements=[\n",
    "        \"red\",\n",
    "        \"green\",\n",
    "        \"blue\"\n",
    "    ],\n",
    "    x=(geo_roi[0][0], geo_roi[1][0]),\n",
    "    y=(geo_roi[0][1], geo_roi[1][1]),\n",
    "    time=temporal_roi\n",
    ")\n",
    "\n",
    "print(ds_rgb)"
   ]
  },
  {
   "cell_type": "markdown",
   "metadata": {},
   "source": [
    "Note that the *Data variables* component of the `xarray.Dataset` now includes only the measurements specified in\n",
    "the query (i.e. the `red`, `green` and `blue` satellite bands).\n",
    "\n",
    "\n",
    "### Loading data for coordinates in any CRS\n",
    "\n",
    "By default, `dc.load()` assumes that your query `x` and `y` coordinates are provided in degrees in the\n",
    "`WGS84/EPSG:4326` CRS. If your coordinates are in a different coordinate system, you need to specify this using\n",
    "the `crs` parameter.\n",
    "\n",
    "In the example below, we load data for a set of `x` and `y` coordinates defined in WGS84 UTM zone 35N\n",
    "(`EPSG:32635`), and ensure that the `dc.load()` function accounts for this by including `crs=\"EPSG:32635\"`:\n"
   ]
  },
  {
   "cell_type": "code",
   "execution_count": null,
   "metadata": {},
   "outputs": [],
   "source": [
    "query_crs = \"EPSG:32635\"\n",
    "crs_roi = (\n",
    "    (616399.9139566962840036, -2884075.6101447795517743),\n",
    "    (621789.9309403104707599,-2879518.8067464884370565)\n",
    ")\n",
    "\n",
    "# Note the new `x` and `y` coordinates and `crs` parameter\n",
    "ds_custom_crs = dc.load(\n",
    "    product=product,\n",
    "    x=(crs_roi[0][0], crs_roi[1][0]),\n",
    "    y=(crs_roi[0][1], crs_roi[1][1]),\n",
    "    crs=query_crs,\n",
    "    time=temporal_roi,\n",
    ")\n",
    "\n",
    "print(ds_custom_crs)"
   ]
  },
  {
   "cell_type": "markdown",
   "metadata": {},
   "source": [
    "### CRS reprojection\n",
    "\n",
    "Certain applications may require that you output your data into a specific CRS.\n",
    "You can reproject your output data by specifying the new `output_crs` and identifying the `resolution` required.\n",
    "\n",
    "In this example, we will reproject our data to a new CRS (UTM Zone 34S, `EPSG:32734`) and resolution (25 x 25 m).\n",
    "Note that for most CRSs, the first resolution value is negative (e.g. `(-20, 20)`):"
   ]
  },
  {
   "cell_type": "code",
   "execution_count": null,
   "metadata": {},
   "outputs": [],
   "source": [
    "target_crs = \"EPSG:32734\"\n",
    "target_resolution = (-20, 20)\n",
    "ds_reprojected = dc.load(\n",
    "    product=product,\n",
    "    x=(crs_roi[0][0], crs_roi[1][0]),\n",
    "    y=(crs_roi[0][1], crs_roi[1][1]),\n",
    "    crs=query_crs,\n",
    "    time=temporal_roi,\n",
    "    output_crs=target_crs,\n",
    "    resolution=target_resolution\n",
    ")\n",
    "\n",
    "print(ds_reprojected)"
   ]
  },
  {
   "cell_type": "markdown",
   "metadata": {},
   "source": [
    "Note that the `crs` attribute in the *Attributes* section has changed to `EPSG:32734`. \n",
    "Due to the larger 25 m resolution, there are also now less pixels on the `x` and `y` dimensions\n",
    "(e.g. `x: 86, y: 91` compared to `x: 644, y: 801` in earlier examples).\n",
    "\n",
    "\n",
    "\n",
    "### Spatial resampling methods\n",
    "\n",
    "When a product is re-projected to a different CRS and/or resolution, the new pixel grid may differ from the original\n",
    "input pixels by size, number and alignment. It is therefore necessary to apply a spatial \"resampling\" rule that\n",
    "allocates input pixel values into the new pixel grid.\n",
    "\n",
    "By default, `dc.load()` resamples pixel values using \"nearest neighbour\" resampling, which allocates each new pixel\n",
    "with the value of the closest input pixel. Depending on the type of data and the analysis being run, this may not be\n",
    "the most appropriate choice (e.g. for continuous data).\n",
    "\n",
    "The `resampling` parameter in `dc.load()` allows you to choose a custom resampling method from the following options: \n",
    "\n",
    "```\n",
    "\"nearest\",\n",
    "\"cubic\",\n",
    "\"bilinear\",\n",
    "\"cubic_spline\",\n",
    "\"lanczos\",\n",
    "\"average\",\n",
    "\"mode\",\n",
    "\"gauss\",\n",
    "\"max\",\n",
    "\"min\",\n",
    "\"med\",\n",
    "\"q1\",\n",
    "\"q3\"\n",
    "```\n",
    "\n",
    "For example, we can request that all loaded data is resampled using \"average\" resampling:"
   ]
  },
  {
   "cell_type": "code",
   "execution_count": null,
   "metadata": {},
   "outputs": [],
   "source": [
    "# Note the additional `resampling` parameter\n",
    "ds_averageresampling = dc.load(\n",
    "    product=product,\n",
    "    x=(crs_roi[0][0], crs_roi[1][0]),\n",
    "    y=(crs_roi[0][1], crs_roi[1][1]),\n",
    "    crs=query_crs,\n",
    "    time=temporal_roi,\n",
    "    resolution=target_resolution,\n",
    "    output_crs=target_crs,\n",
    "    resampling=\"average\"\n",
    ")\n",
    "\n",
    "print(ds_averageresampling)\n"
   ]
  },
  {
   "cell_type": "markdown",
   "metadata": {},
   "source": [
    "You can also provide a Python dictionary to request a different sampling method for different measurements. \n",
    "This can be particularly useful when some measurements contain categorical data which require resampling methods\n",
    "such as \"nearest\" or \"mode\" that do not modify the input pixel values.\n",
    "\n",
    "In the example below, we specify `resampling={\"red\": \"nearest\", \"*\": \"average\"}`, which will use \"nearest\" neighbour\n",
    "resampling for the `red` satellite band only. `\"*\": \"average\"` will apply \"average\" resampling for all other\n",
    "satellite bands:\n"
   ]
  },
  {
   "cell_type": "code",
   "execution_count": null,
   "metadata": {},
   "outputs": [],
   "source": [
    "ds_customresampling = dc.load(\n",
    "    product=product,\n",
    "    x=(crs_roi[0][0], crs_roi[1][0]),\n",
    "    y=(crs_roi[0][1], crs_roi[1][1]),\n",
    "    crs=query_crs,\n",
    "    time=temporal_roi,\n",
    "    resolution=target_resolution,\n",
    "    output_crs=target_crs,\n",
    "    resampling={\n",
    "        \"red\": \"nearest\",\n",
    "        \"*\": \"average\"\n",
    "    }\n",
    ")\n",
    "\n",
    "print(ds_customresampling)"
   ]
  },
  {
   "cell_type": "markdown",
   "metadata": {},
   "source": [
    "> **Note**: For more information about spatial resampling methods, see the [following guide](https://rasterio.readthedocs.io/en/stable/topics/resampling.html)\n",
    "\n",
    "## Loading data using the query dictionary syntax\n",
    "\n",
    "It is often useful to re-use a set of query parameters to load data from multiple products.\n",
    "To achieve this, we can load data using the \"query dictionary\" syntax.\n",
    "This involves placing the query parameters we used to load data above inside a Python dictionary object which we\n",
    "can re-use for multiple data loads:"
   ]
  },
  {
   "cell_type": "code",
   "execution_count": null,
   "metadata": {},
   "outputs": [],
   "source": [
    "query = {\n",
    "    \"x\": (geo_roi[0][0], geo_roi[1][0]),\n",
    "    \"y\": (geo_roi[0][1], geo_roi[1][1]),\n",
    "    \"time\": temporal_roi,\n",
    "}\n"
   ]
  },
  {
   "cell_type": "markdown",
   "metadata": {},
   "source": [
    "We can then use this query dictionary object as an input to `dc.load()`. \n",
    "\n",
    "> The `**` syntax below is Python's \"keyword argument unpacking\" operator.\n",
    "> This operator takes the named query parameters listed in the dictionary we created (e.g. `\"x\": (153.3, 153.4)`),\n",
    "> and \"unpacks\" them into the `dc.load()` function as new arguments.\n",
    "> For more information about unpacking operators, refer to the [Python documentation](https://docs.python.org/3/tutorial/controlflow.html#unpacking-argument-lists)"
   ]
  },
  {
   "cell_type": "code",
   "execution_count": null,
   "metadata": {},
   "outputs": [],
   "source": [
    "ds = dc.load(\n",
    "    product=product,\n",
    "    **query\n",
    ")\n",
    "\n",
    "print(ds)"
   ]
  },
  {
   "cell_type": "markdown",
   "metadata": {},
   "source": [
    "Query dictionaries can contain any set of parameters that would usually be provided to `dc.load()`:"
   ]
  },
  {
   "cell_type": "code",
   "execution_count": null,
   "metadata": {},
   "outputs": [],
   "source": [
    "query = {\n",
    "    \"x\": (crs_roi[0][0], crs_roi[1][0]),\n",
    "    \"y\": (crs_roi[0][1], crs_roi[1][1]),\n",
    "    \"crs\": query_crs,\n",
    "    \"time\": temporal_roi,\n",
    "    \"output_crs\": target_crs,\n",
    "    \"resolution\": target_resolution,\n",
    "}\n",
    "\n",
    "ds_spot6 = dc.load(\n",
    "    product=product,\n",
    "    **query\n",
    ")\n",
    "\n",
    "print(ds_spot6)\n"
   ]
  },
  {
   "cell_type": "markdown",
   "metadata": {},
   "source": [
    "Now we have a reusable query, we can easily use it to load data from a different product.\n",
    "For example, we can load Water Observations from Space Annual Summary data for the same extent, time, output CRS and\n",
    "resolution that we just loaded Landsat 8 Geomedian data for:"
   ]
  },
  {
   "cell_type": "code",
   "execution_count": null,
   "metadata": {},
   "outputs": [],
   "source": [
    "ds_wofs = dc.load(\n",
    "    product=\"ga_ls8c_wofs_2_annual_summary\",\n",
    "    **query\n",
    ")\n",
    "\n",
    "print(ds_wofs)"
   ]
  },
  {
   "cell_type": "markdown",
   "metadata": {},
   "source": [
    "## Other helpful tricks\n",
    "\n",
    "\n",
    "### Loading data \"like\" another dataset\n",
    "\n",
    "Another option for loading matching data from multiple products is to use `dc.load()`'s `like` parameter.\n",
    "This will copy the spatial and temporal extent and the CRS/resolution from an existing dataset, and use these\n",
    "parameters to load a new data from a new product.\n",
    "\n",
    "In the example below, we load another WOfS dataset that exactly matches the `ds_ls8` dataset we loaded earlier:\n"
   ]
  },
  {
   "cell_type": "code",
   "execution_count": null,
   "metadata": {},
   "outputs": [],
   "source": [
    "ds_wofs = dc.load(\n",
    "    product=\"ga_ls8c_wofs_2_annual_summary\",\n",
    "    like=ds_spot6\n",
    ")\n",
    "\n",
    "print(ds_wofs)"
   ]
  },
  {
   "cell_type": "markdown",
   "metadata": {},
   "source": [
    "### Adding a progress bar\n",
    "\n",
    "When loading large amounts of data, it can be useful to view the progress of the data load. \n",
    "The `progress_cbk` parameter in `dc.load()` allows us to add a progress bar which will indicate how the load is\n",
    "progressing. In this example, we will load 5 years of data (2013, 2014, 2015, 2016 and 2017) from the\n",
    "`ga_ls8c_wofs_2_annual_summary` product with a progress bar:"
   ]
  },
  {
   "cell_type": "code",
   "execution_count": null,
   "metadata": {},
   "outputs": [],
   "source": [
    "query = {\n",
    "    \"x\": (crs_roi[0][0], crs_roi[1][0]),\n",
    "    \"y\": (crs_roi[0][1], crs_roi[1][1]),\n",
    "    \"crs\": query_crs,\n",
    "    \"time\": (\"2013\", \"2018\")\n",
    "}\n",
    "\n",
    "ds_progress = dc.load(\n",
    "    product=product,\n",
    "    progress_cbk=with_ui_cbk(),\n",
    "    **query\n",
    ")\n",
    "\n",
    "print(ds_progress)"
   ]
  },
  {
   "cell_type": "markdown",
   "metadata": {
    "pycharm": {
     "name": "#%% md\n"
    }
   },
   "source": [
    "## Recommended next steps\n",
    "\n",
    "For more advanced information about working with Jupyter Notebooks or JupyterLab, you can\n",
    "explore [JupyterLab documentation page](https://jupyterlab.readthedocs.io/en/stable/user/notebook.html).\n",
    "\n",
    "To continue working through the notebooks in this beginner's guide, the following notebooks are designed to be\n",
    "worked through in the following order:\n",
    "\n",
    "1. [Jupyter Notebooks](01_Jupyter_notebooks.ipynb)\n",
    "2. [Products and Measurements](02_Products_and_measurements.ipynb)\n",
    "3. **Loading data (this notebook)**\n",
    "4. [Plotting](04_Plotting.ipynb)\n",
    "5. [Performing a basic analysis](05_Basic_analysis.ipynb)\n",
    "6. [Introduction to numpy](06_Intro_to_numpy.ipynb)\n",
    "7. [Introduction to xarray](07_Intro_to_xarray.ipynb)\n",
    "8. [Parallel processing with Dask](08_Parallel_processing_with_dask.ipynb)\n",
    "\n",
    "Once you have completed the above six tutorials, join advanced users in exploring:\n",
    "\n",
    "* The \"Datasets\" directory in the repository, where you can explore DE Africa products in depth.\n",
    "* The \"Frequently used code\" directory, which contains a recipe book of common techniques and methods for analysing DE Africa data.\n",
    "* The \"Real-world examples\" directory, which provides more complex workflows and analysis case studies."
   ]
  }
 ],
 "metadata": {
  "kernelspec": {
   "display_name": "Python 3",
   "language": "python",
   "name": "python3"
  },
  "language_info": {
   "codemirror_mode": {
    "name": "ipython",
    "version": 3
   },
   "file_extension": ".py",
   "mimetype": "text/x-python",
   "name": "python",
   "nbconvert_exporter": "python",
   "pygments_lexer": "ipython3",
   "version": "3.6.9"
  },
  "widgets": {
   "application/vnd.jupyter.widget-state+json": {
    "state": {},
    "version_major": 2,
    "version_minor": 0
   }
  }
 },
 "nbformat": 4,
 "nbformat_minor": 4
}
