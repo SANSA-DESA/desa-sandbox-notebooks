{
 "cells": [
  {
   "cell_type": "markdown",
   "metadata": {},
   "source": [
    "# Introduction to plotting\n",
    "\n",
    "- **Products used:**\n",
    "[ls8_nbart_geomedian_annual](https://explorer.sandbox.dea.ga.gov.au/ls8_nbart_geomedian_annual)\n",
    "\n",
    "- **Prerequisites:** Users of this notebook should have a basic understanding of:\n",
    "  - How to run a [Jupyter notebook](01_Jupyter_notebooks.ipynb)\n",
    "  - Inspecting available [DE Africa products and measurements](02_Products_and_measurements.ipynb)\n",
    "  - How to [load data from DE Africa](03_Loading_data.ipynb)\n",
    "\n",
    "\n",
    "## Background\n",
    "\n",
    "Data visualisation is an important component of working with Earth Observation data.\n",
    "The `xarray` Python package provides a range of straightforward data plotting options which allow users to quickly\n",
    "generate simple plots from multi-dimensional datasets.\n",
    "To generate more complex and informative plots from data loaded from DESA, the Notebooks repository also provides a\n",
    "custom plotting module with additional easy-to-use functionality.\n",
    "\n",
    "\n",
    "## Description\n",
    "\n",
    "This introductory notebook demonstrates how to visualise DESA satellite data returned from running a\n",
    "datacube query.\n",
    "The notebook demonstrates commonly used `xarray` plotting methods, as well as custom functions provided in\n",
    "the [deafrica_plotting](../Scripts/deafrica_plotting.py) script.\n",
    "\n",
    "Topics covered in this notebook include:\n",
    "\n",
    "- View your area of interest prior to querying the datacube\n",
    "- Querying the datacube and loading data\n",
    "- Plotting single band data (e.g. a single satellite band)\n",
    "  - Selecting and plotting individual timesteps\n",
    "  - Plotting multiple timesteps\n",
    "  - Customising plot appearance\n",
    "- Plotting three-band true or false colour imagery\n",
    "  - Plotting single timesteps\n",
    "  - Plotting multiple timesteps\n",
    "  - Customising plot appearance\n",
    "\n",
    "\n",
    "## Getting started\n",
    "\n",
    "To run this introduction to plotting data loaded from the datacube, run all the cells in the notebook starting with\n",
    "the \"Load packages\" cell. For help with running notebook cells, refer back to\n",
    "the [Jupyter Notebooks notebook](01_Jupyter_notebooks.ipynb).\n",
    "\n",
    "\n",
    "### Load packages\n",
    "\n",
    "First we run `%matplotlib inline`, which ensures figures plot correctly in the Jupyter notebook.\n",
    "\n",
    "We then need to load the `datacube` package, which allows us to load some data and a selection of custom DE Africa\n",
    "functions from the `deafrica_plotting` script. The `deafrica_plotting` script is located inside\n",
    "the [deafrica-sandbox-notebooks repository](https://github.com/digitalearthafrica/deafrica-sandbox-notebooks), inside\n",
    "the Scripts folder.\n",
    "\n",
    "In order to use the custom functions on the sandbox, a copy of the python file containing the custom function needs to\n",
    "be saved in the folders on the sandbox. We then need to add that folder location to the Python path.\n",
    "\n",
    "Here, we achieve this using `sys.path.append()` to add the `Scripts` folder containing the `deafrica_plotting` python\n",
    "file to the python path. The two custom functions `display_map()` and `rgb()` are then imported form\n",
    "the `deafrica_plotting` python file."
   ]
  },
  {
   "cell_type": "code",
   "execution_count": null,
   "metadata": {
    "pycharm": {
     "is_executing": true
    }
   },
   "outputs": [],
   "source": [
    "%matplotlib inline\n",
    "\n",
    "import datacube\n",
    "import sys\n",
    "\n",
    "from odc.ui import with_ui_cbk\n",
    "\n",
    "sys.path.append(\"../Scripts\")\n",
    "from deafrica_plotting import display_map\n",
    "from deafrica_plotting import rgb\n"
   ]
  },
  {
   "cell_type": "markdown",
   "metadata": {},
   "source": [
    "### Connect to the datacube\n",
    "\n",
    "We then connect to the datacube database so we can load DE Africa data. "
   ]
  },
  {
   "cell_type": "code",
   "execution_count": null,
   "metadata": {},
   "outputs": [],
   "source": [
    "dc = datacube.Datacube(\n",
    "    app=\"04_Plotting\",\n",
    "    env=\"sandbox\"\n",
    ")"
   ]
  },
  {
   "cell_type": "markdown",
   "metadata": {},
   "source": [
    "### Analysis parameters\n",
    "\n",
    "The following variables are required to establish a query for this notebook:\n",
    "- `lat_range` -  The latitude range to analyse (e.g. `(11.72, 11.52)`). For reasonable load times, keep this to a\n",
    "  range of ~0.1 degrees or less.\n",
    "- `lon_range` - The longitude range to analyse (e.g. `(-15.63, -15.43)`). For reasonable load times, keep this to a\n",
    "  range of ~0.1 degrees or less.\n",
    "- `time_range` - The date range to analyse (e.g. `(\"2018-01-01\", \"2018-03-30\")`).\n"
   ]
  },
  {
   "cell_type": "code",
   "execution_count": null,
   "metadata": {},
   "outputs": [],
   "source": [
    "lat_range = (-26.622070486862057, -26.51017494969372)\n",
    "lon_range = (27.934760201214132, 28.139202800975315)\n",
    "time_range = (\"2016-03-06\", \"2016-05-28T08:07:06\")\n"
   ]
  },
  {
   "cell_type": "markdown",
   "metadata": {},
   "source": [
    "## View the queried location\n",
    "\n",
    "Before running a query and extracting and analysing data, it is useful to double-check that your location is correct.\n",
    "The `display_map()` function shows your selected area as a red rectangle on an interactive map.\n",
    "Clicking on any point of the map will reveal the latitude and longitude coordinates of that point."
   ]
  },
  {
   "cell_type": "code",
   "execution_count": null,
   "metadata": {},
   "outputs": [],
   "source": [
    "display_map(x=lon_range, y=lat_range)"
   ]
  },
  {
   "cell_type": "markdown",
   "metadata": {},
   "source": [
    "## Query and view data\n",
    "\n",
    "The variables determined above are used here to query the DESA datacube using the `dc.load()` function and load data\n",
    "introduced in the [Loading data notebook](04_Loading_data.ipynb)."
   ]
  },
  {
   "cell_type": "code",
   "execution_count": null,
   "metadata": {},
   "outputs": [],
   "source": [
    "ds = dc.load(\n",
    "    product=\"spot6_ard_scene\",\n",
    "    measurements=[\n",
    "        \"blue\",\n",
    "        \"green\",\n",
    "        \"red\",\n",
    "        \"nir\",\n",
    "    ],\n",
    "    x=lon_range,\n",
    "    y=lat_range,\n",
    "    time=time_range,\n",
    "    resolution=(-40, 40),  # resampling to 40m in order to load faster\n",
    "    progress_cbk=with_ui_cbk(),\n",
    ")\n",
    "\n",
    "print(ds)"
   ]
  },
  {
   "cell_type": "markdown",
   "metadata": {},
   "source": [
    "## Plotting single band images\n",
    "\n",
    "The `xarray` package provides built-in methods for plotting individual data variables or measurements.\n",
    "For example, we might want to make a plot for a single measurement like the `nir` satellite band in the data we loaded\n",
    "above.\n",
    "\n",
    "To do this, we first need to access the band we are after as an `xarray.DataArray` (to revise the difference\n",
    "between `xarray.Dataset` and `xarray.DataArray` objects, refer back to the [Loading data](04_Loading_data.ipynb) notebook):"
   ]
  },
  {
   "cell_type": "code",
   "execution_count": null,
   "metadata": {},
   "outputs": [],
   "source": [
    "measurement = \"nir\"\n",
    "print(ds[measurement])  # `print(ds.nir)` would have the same effect"
   ]
  },
  {
   "cell_type": "markdown",
   "metadata": {},
   "source": [
    "### Selecting and plotting a single timestep\n",
    "\n",
    "You can see in the object header that this `xarray.DataArray` has data for multiple timesteps. To make a plot for a\n",
    "single timestep only, we need to select it using one of the following options:\n",
    "\n",
    "1. `.isel()` - This stands for \"index selection\", and lets us easily select individual timesteps from a dataset by\n",
    "   providing the number of the observation we want. Counting in Python begins at 0, so to select the first timestep in\n",
    "   the `xarray.DataArray` we can specify `.isel(time=0)`:"
   ]
  },
  {
   "cell_type": "code",
   "execution_count": null,
   "metadata": {},
   "outputs": [],
   "source": [
    "first_timestep = ds[measurement].isel(time=0)\n",
    "\n",
    "print(first_timestep)"
   ]
  },
  {
   "cell_type": "markdown",
   "metadata": {},
   "source": [
    "2. `.sel()` - This allows us to select data using real-world coordinate labels like `time`. For example, from the\n",
    "   *Coordinates* section, we can select the first timestep (i.e. The observation for January 6th 2017) from\n",
    "   the `xarray.DataArray` by specifying `.sel(time='2017-01-06')`:"
   ]
  },
  {
   "cell_type": "code",
   "execution_count": null,
   "metadata": {},
   "outputs": [],
   "source": [
    "first_timestep = ds[measurement].sel(time='2016-03-06')\n",
    "\n",
    "print(first_timestep)"
   ]
  },
  {
   "cell_type": "markdown",
   "metadata": {},
   "source": [
    "We can now use the `.plot()` method to plot `nir` data for our selected timestep:"
   ]
  },
  {
   "cell_type": "code",
   "execution_count": null,
   "metadata": {},
   "outputs": [],
   "source": [
    "first_timestep.plot()"
   ]
  },
  {
   "cell_type": "markdown",
   "metadata": {},
   "source": [
    "### Plotting multiple timesteps\n",
    "\n",
    "It is often useful to produce plots for a single measurement across time, for example to compare change between\n",
    "satellite observations or summary datasets. To plot multiple images, we can skip the `isel()` step above and plot the\n",
    "entire `xarray.DataArray` directly.\n",
    "\n",
    "To plot multiple timesteps in one figure, we need to tell the `.plot()` function to put each timestep in a different\n",
    "column. We can do this by specifying `.plot(col=\"time\")`:"
   ]
  },
  {
   "cell_type": "code",
   "execution_count": null,
   "metadata": {},
   "outputs": [],
   "source": [
    "ds[measurement].plot(col=\"time\")"
   ]
  },
  {
   "cell_type": "markdown",
   "metadata": {},
   "source": [
    "> **Note**: This kind of plotting is called \"facetted plotting\". For more information, refer to the\n",
    "> [xarray documentation](http://xarray.pydata.org/en/stable/plotting.html#faceting)\n",
    "\n",
    "\n",
    "### Customising plot appearance\n",
    "\n",
    "You may notice that the plots above are dark and difficult to see clearly. To improve the appearance of `xarray`\n",
    "plots, you can use the `robust=True` argument to optimise the plot colours by clipping extreme values or outliers.\n",
    "This will use the 2nd and 98th percentiles of the data to compute the color limits:"
   ]
  },
  {
   "cell_type": "code",
   "execution_count": null,
   "metadata": {},
   "outputs": [],
   "source": [
    "ds[measurement].plot(col=\"time\", robust=True)"
   ]
  },
  {
   "cell_type": "markdown",
   "metadata": {},
   "source": [
    "We can also easily use custom colour maps/styles to visualise our data using the `cmap` parameter.\n",
    "\n",
    "When choosing a colour map for a plot, it is important to choose a set of colours that are perceived logically by the\n",
    "human eye. The best colour maps are \"perceptually uniform\": these colour maps increase logically from dark to light\n",
    "colours, where equal increases in lightness/darkness correspond to equal changes in data values. Some best-practice\n",
    "perceptually uniform colour maps include:\n",
    "\n",
    "```\n",
    "\"viridis\",\n",
    "\"plasma\",\n",
    "\"inferno\",\n",
    "\"magma\",\n",
    "\"cividis\"\n",
    "```\n",
    "\n",
    "> **Note**: For further reading about perceptually uniform colour maps in data visualisation, refer to\n",
    "> the [matplotlib documentation](https://matplotlib.org/3.1.0/tutorials/colors/colormaps.html)\n",
    "\n",
    "It is also important to consider colour blindness when selecting a colour map. \n",
    "`xarray` supports many colour maps from the \"colorbrewer\" family of colour maps which are optimised for colour\n",
    "blindness. You can use the interactive [online tool](http://colorbrewer2.org) to browse all available colour maps, or\n",
    "choose from one of the following commonly used options:\n",
    "\n",
    "```\n",
    "\"Greys\",\n",
    "\"Purples\",\n",
    "\"Blues\",\n",
    "\"Greens\",\n",
    "\"Oranges\",\n",
    "\"Reds\",\n",
    "\"YlOrBr\",\n",
    "\"YlOrRd\",\n",
    "\"OrRd\",\n",
    "\"PuRd\",\n",
    "\"RdPu\",\n",
    "\"BuPu\",\n",
    "\"GnBu\",\n",
    "\"PuBu\",\n",
    "\"YlGnBu\",\n",
    "\"PuBuGn\",\n",
    "\"BuGn\",\n",
    "\"YlGn\"\n",
    "```\n",
    "\n",
    "For a full list of available colour maps you can refer to [this list](https://matplotlib.org/3.1.0/tutorials/colors/colormaps.html).\n",
    "\n",
    "For example, to plot our data with the perceptually uniform `magma` colour map:\n"
   ]
  },
  {
   "cell_type": "code",
   "execution_count": null,
   "metadata": {},
   "outputs": [],
   "source": [
    "ds[measurement].plot(col=\"time\", robust=True, cmap=\"magma\")"
   ]
  },
  {
   "cell_type": "markdown",
   "metadata": {},
   "source": [
    "## Plotting true or false colour RGB images\n",
    "\n",
    "Although `xarray` makes it easy to plot single band images, plotting a three band colour photo-like image is less\n",
    "straightforward. To make this easier, the `deafrica-notebooks` repository provides a custom `rgb()` function that is\n",
    "designed for plotting three band images.\n",
    "The `rgb()` function maps three data variables/measurements from the loaded dataset to the red, green and blue\n",
    "channels that are used to make a three-colour image. The `rgb()` function is located in the `deafrica_plotting`\n",
    "script [here](../Scripts/deafrica_plotting.py).\n",
    "\n",
    "Providing the `red`, `green` and `blue` measurements from a dataset will produce a true colour image (akin to how\n",
    "humans view the landscape). Providing `nir`, `red` and `green` measurements or any other set of three satellite bands\n",
    "from a dataset will produce a false colour image. You can learn more about colour\n",
    "rendering [here](https://en.wikipedia.org/wiki/False_color#True_color).\n",
    "\n",
    "Hence, the `rgb()` function can be used to visualise the data returned by a query.\n",
    "It requires the minimum input of:\n",
    "\n",
    "- `ds:` The `xarray.Dataset` object\n",
    "- `bands:` Three bands for display (these must be measurements found in the dataset)\n",
    "- `index:` The timestep to view, default is `0`\n",
    "\n",
    "\n",
    "### Plotting a single timestep\n",
    "\n",
    "The time dimension of your `xarray.Dataset` describes how many timesteps exist for your location during your nominated\n",
    "time period. In the `rgb()` function, the `index` variable is asking for which timestep you want to view (similar to\n",
    "the `isel()` example above). Remember: counting in Python begins at 0 so to view the earliest timestep set `index=0`:"
   ]
  },
  {
   "cell_type": "code",
   "execution_count": null,
   "metadata": {},
   "outputs": [],
   "source": [
    "# View a red, green, blue (true colour) image of the first timestep\n",
    "rgb(\n",
    "    ds,\n",
    "    bands=[\"red\", \"green\", \"blue\"],\n",
    "    index=0\n",
    ")"
   ]
  },
  {
   "cell_type": "markdown",
   "metadata": {},
   "source": [
    "By changing the input bands, we can plot a false colour image which can provide different insights in a landscape.\n",
    "This band combination (`swir1`, `nir`, `green`) emphasises growing vegetation in green, and water in deep blue:"
   ]
  },
  {
   "cell_type": "code",
   "execution_count": null,
   "metadata": {},
   "outputs": [],
   "source": [
    "# View a swir1, nir, green (false colour) image of the first timestep\n",
    "rgb(\n",
    "    ds,\n",
    "    bands=['green', 'red', 'nir'],\n",
    "    index=0\n",
    ")"
   ]
  },
  {
   "cell_type": "markdown",
   "metadata": {},
   "source": [
    "### Plotting multiple timesteps\n",
    "\n",
    "As discussed in the [single band example above](#Plotting-multiple-timesteps), it can be useful to visualise multiple\n",
    "timesteps in a single plot (e.g. to compare change over time). The `rgb()` function allows you to do this by providing\n",
    "a list of multiple images to plot using `index=[X, X, ...]`.\n",
    "For example, we can plot the first and second image in our dataset using `index=[0, 2]` (remembering that counting\n",
    "in Python starts at 0):"
   ]
  },
  {
   "cell_type": "code",
   "execution_count": null,
   "metadata": {},
   "outputs": [],
   "source": [
    "# View a true colour image for the first and fith timesteps\n",
    "rgb(\n",
    "    ds,\n",
    "    bands=['red', 'green', 'blue'],\n",
    "    index=[0, 2]\n",
    ")"
   ]
  },
  {
   "cell_type": "markdown",
   "metadata": {},
   "source": [
    "It is also possible to use `rgb()` to plot all timesteps in a dataset using the `col=\"time\"` syntax we demonstrate\n",
    "in the [single band example above](#Plotting-multiple-timesteps):"
   ]
  },
  {
   "cell_type": "code",
   "execution_count": null,
   "metadata": {},
   "outputs": [],
   "source": [
    "# Plot all timesteps in the dataset\n",
    "rgb(\n",
    "    ds,\n",
    "    bands=['red', 'green', 'blue'],\n",
    "    col=\"time\"\n",
    ")"
   ]
  },
  {
   "cell_type": "markdown",
   "metadata": {},
   "source": [
    "### Customising plot appearance\n",
    "\n",
    "By default, `rgb()` generates plots with `robust=True` to improve the appearance of the images by clipping out the\n",
    "darkest and brightest 2% of pixels, using the 2nd and 98th percentiles of the data to compute the color limits.\n",
    "\n",
    "If this default provides poor results, the plot's colour stretch can be customised using the `percentile_stretch`\n",
    "parameter. This allows you to clip the most extreme minimum and maximum values in the dataset, to improve the contrast\n",
    "and appearance of the plot.\n",
    "\n",
    "For example, specifying `percentile_stretch=[0.05, 0.95]` will clip out the darkest and brightest 5% of pixels,\n",
    "focusing the colour stretch on the remaining 90% of less extreme values:"
   ]
  },
  {
   "cell_type": "code",
   "execution_count": null,
   "metadata": {},
   "outputs": [],
   "source": [
    "rgb(\n",
    "    ds,\n",
    "    bands=['red', 'green', 'blue'], \n",
    "    index=0, \n",
    "    percentile_stretch=[0.05, 0.95]\n",
    ")\n"
   ]
  },
  {
   "cell_type": "markdown",
   "metadata": {
    "pycharm": {
     "name": "#%% md\n"
    }
   },
   "source": [
    "## Recommended next steps\n",
    "\n",
    "For more advanced information about working with Jupyter Notebooks or JupyterLab, you can\n",
    "explore [JupyterLab documentation page](https://jupyterlab.readthedocs.io/en/stable/user/notebook.html).\n",
    "\n",
    "To continue working through the notebooks in this beginner's guide, the following notebooks are designed to be worked\n",
    "through in the following order:\n",
    "\n",
    "1. [Jupyter Notebooks](01_Jupyter_notebooks.ipynb)\n",
    "2. [Products and Measurements](02_Products_and_measurements.ipynb)\n",
    "3. [Loading data (this notebook)](03_Loading_data.ipynb)\n",
    "4. **Plotting (this notebook)**\n",
    "5. [Performing a basic analysis](05_Basic_analysis.ipynb)\n",
    "6. [Introduction to numpy](06_Intro_to_numpy.ipynb)\n",
    "7. [Introduction to xarray](07_Intro_to_xarray.ipynb)\n",
    "8. [Parallel processing with Dask](08_Parallel_processing_with_dask.ipynb)\n",
    "\n",
    "Once you have completed the above six tutorials, join advanced users in exploring:\n",
    "\n",
    "- The \"Datasets\" directory in the repository, where you can explore DE Africa products in depth.\n",
    "- The \"Frequently used code\" directory, which contains a recipe book of common techniques and methods for analysing\n",
    "  DE Africa data.\n",
    "- The \"Real-world examples\" directory, which provides more complex workflows and analysis case studies."
   ]
  }
 ],
 "metadata": {
  "kernelspec": {
   "display_name": "Python 3",
   "language": "python",
   "name": "python3"
  },
  "language_info": {
   "codemirror_mode": {
    "name": "ipython",
    "version": 3
   },
   "file_extension": ".py",
   "mimetype": "text/x-python",
   "name": "python",
   "nbconvert_exporter": "python",
   "pygments_lexer": "ipython3",
   "version": "3.6.9"
  },
  "widgets": {
   "application/vnd.jupyter.widget-state+json": {
    "state": {},
    "version_major": 2,
    "version_minor": 0
   }
  }
 },
 "nbformat": 4,
 "nbformat_minor": 4
}