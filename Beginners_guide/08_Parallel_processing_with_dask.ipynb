{
 "cells": [
  {
   "cell_type": "markdown",
   "metadata": {},
   "source": [
    "# Parallel processing with Dask\n",
    "\n",
    "- **Products used:**\n",
    "[ga_ls8c_gm_2_annual](https://explorer.digitalearth.africa/ga_ls8c_gm_2_annual)\n",
    "- **Prerequisites**:  Users of this notebook should have a basic understanding of:\n",
    "  - How to run a [Jupyter notebook](01_Jupyter_notebooks.ipynb)\n",
    "  - Inspecting available [DE Africa products and measurements](02_Products_and_measurements.ipynb)\n",
    "  - How to [load data from DE Africa](03_Loading_data.ipynb)\n",
    "  - How to [plot loaded data](04_Plotting.ipynb)\n",
    "  - How to [run a basic analysis](05_Basic_analysis.ipynb)\n",
    "\n",
    "\n",
    "## Background\n",
    "\n",
    "[Dask](https://dask.org/) is a useful tool when working with large analyses (either in space or time) as it breaks\n",
    "data into manageable chunks that can be easily stored in memory. It can also use multiple computing cores to speed up\n",
    "computations. This has numerous benefits for analyses, which will be covered in this notebook.\n",
    "\n",
    "## Description\n",
    "\n",
    "This notebook covers how to enable Dask as part of loading data, which can allow you to analyse larger areas and\n",
    "longer time-spans without crashing the DESA Environment, as well as potentially speeding up your calculations.\n",
    "\n",
    "Topics covered in this notebook include:\n",
    "\n",
    "1. The difference between the standard load command and loading with Dask.\n",
    "2. Enabling Dask and the Dask Dashboard.\n",
    "3. Setting chunk sizes for data loading.\n",
    "4. Loading data with Dask.\n",
    "5. Chaining operations together before loading any data and understanding task graphs.\n",
    "\n",
    "\n",
    "## Getting started\n",
    "\n",
    "To run this introduction to Dask, run all the cells in the notebook starting with the \"Load packages\" cell. For help\n",
    "with running notebook cells, refer back to the [Jupyter Notebooks notebook](01_Jupyter_notebooks.ipynb).\n",
    "\n",
    "\n",
    "### Load packages\n",
    "\n",
    "The cell below imports the `datacube` package, which already includes Dask functionality.\n",
    "The `sys` package provides access to helpful support functions in the `deafrica_dask` module,\n",
    "specifically the `create_local_dask_cluster` function."
   ]
  },
  {
   "cell_type": "code",
   "execution_count": null,
   "metadata": {},
   "outputs": [],
   "source": [
    "import datacube\n",
    "\n",
    "import sys\n",
    "sys.path.append('../Scripts')\n",
    "from deafrica_dask import create_local_dask_cluster"
   ]
  },
  {
   "cell_type": "markdown",
   "metadata": {},
   "source": [
    "### Connect to the datacube\n",
    "\n",
    "The next step is to connect to the datacube database. The resulting `dc` datacube object can then be used to load data.\n",
    "The `app` parameter is a unique name used to identify the notebook that does not have any effect on the analysis."
   ]
  },
  {
   "cell_type": "code",
   "execution_count": null,
   "metadata": {},
   "outputs": [],
   "source": [
    "dc = datacube.Datacube(\n",
    "    app=\"08_parallel_processing_with_dask\",\n",
    "    env=\"sandbox-eo3\"\n",
    ")"
   ]
  },
  {
   "cell_type": "markdown",
   "metadata": {},
   "source": [
    "## Standard load\n",
    "\n",
    "By default, the `datacube` library will **not** use Dask when loading data.\n",
    "This means that when `dc.load()` is used, all data relating to the load query will be requested and loaded into memory.\n",
    "\n",
    "For very large areas or long time spans, this can cause the Jupyter notebook to crash.\n",
    "\n",
    "For more information on how to use `dc.load()`, see the [Loading data from DE Africa notebook](03_Loading_data.ipynb).\n",
    "Below, we show a standard load example:"
   ]
  },
  {
   "cell_type": "code",
   "execution_count": null,
   "metadata": {},
   "outputs": [],
   "source": [
    "product = \"test_spot6_gauteng_old_eo3\"\n",
    "query = {\n",
    "    \"measurements\": [\"red\", \"green\", \"blue\"],\n",
    "    \"x\": (27.9610, 28.111),\n",
    "    \"y\": (-26.642, -26.492),\n",
    "    \"time\": (\"2016-03-06\", \"2016-05-28T08:07:06\"),\n",
    "}\n",
    "data = dc.load(\n",
    "    product=product,\n",
    "    **query\n",
    ")\n",
    "\n",
    "data"
   ]
  },
  {
   "cell_type": "markdown",
   "metadata": {},
   "source": [
    "## Enabling Dask\n",
    "\n",
    "One of the major features of Dask is that it can take advantage of multiple CPU cores to speed up computations, which\n",
    "is known as distributed computing. This is good for situations where you need to do a lot of calculations on large\n",
    "datasets. To set up distributed computing with Dask, you need to first set up a Dask client using the function below:"
   ]
  },
  {
   "cell_type": "code",
   "execution_count": null,
   "metadata": {},
   "outputs": [],
   "source": [
    "from distributed import Client\n",
    "client = Client(\"10.150.16.81:8786\")\n",
    "# create_local_dask_cluster()"
   ]
  },
  {
   "cell_type": "markdown",
   "metadata": {},
   "source": [
    "A print out should appear, displaying information about the `Client` and the `Cluster`.\n",
    "For now, we're most interested in the hyperlink after the **Dashboard:** heading, which should look something\n",
    "like [/user/\\<username\\>/proxy/8787/status](), where [\\<username\\>]() is your username for the DE Africa Sandbox.\n",
    "\n",
    "This link provides a way for you to view how any computations you run are progressing. There are two ways to view\n",
    "the dashboard:\n",
    "\n",
    "1. Click the link, which will open a new tab in your browser\n",
    "2. Set up the dashboard inside the DE Africa Environment.\n",
    "\n",
    "We'll now cover how to do the second option."
   ]
  },
  {
   "cell_type": "markdown",
   "metadata": {},
   "source": [
    "### Dask dashboard in DE Africa\n",
    "\n",
    "On the left-hand menu bar, click the Dask icon, as shown below:\n",
    "\n",
    "![Image](../Supplementary_data/08_parallel_processing_with_dask/dask.png)\n",
    "\n",
    "Copy and paste the **Dashboard** link from the Client print out in the DASK DASHBOARD URL text box:\n",
    "\n",
    "![Image](../Supplementary_data/08_parallel_processing_with_dask/dask_url_filled.png)\n",
    "\n",
    "If the url is valid, the buttons should go from grey to orange.\n",
    "Click the orange **PROGRESS** button on the dask panel, which will open a new tab inside the DE Africa Environment.\n",
    "\n",
    "To view the Dask window and your active notebook at the same time, drag the new Dask Progress tab to the bottom\n",
    "of the screen.\n",
    "\n",
    "Now, when you do computations with Dask, you'll see the progress of the computations in this new Dask window.\n",
    "\n",
    "## Lazy load\n",
    "\n",
    "When using Dask, the `dc.load()` function will switch from immediately loading the data to \"lazy-loading\" the data. \n",
    "This means the data is only loaded when it is going to be used for a calculation, potentially saving time and memory.\n",
    "\n",
    "Lazy-loading changes the data structure returned from the `dc.load()` command: the returned `xarray.Dataset` will be\n",
    "comprised of `dask.array` objects.\n",
    "\n",
    "To request lazy-loaded data, add a `dask_chunks` parameter to your `dc.load()` call:"
   ]
  },
  {
   "cell_type": "code",
   "execution_count": null,
   "metadata": {},
   "outputs": [],
   "source": [
    "lazy_data = dc.load(\n",
    "    product=product,\n",
    "    dask_chunks={\n",
    "        'time': 1,\n",
    "        'x': 3000,\n",
    "        'y': 3000\n",
    "    },\n",
    "    **query\n",
    ")\n",
    "\n",
    "lazy_data"
   ]
  },
  {
   "cell_type": "markdown",
   "metadata": {},
   "source": [
    "The function should return much faster, as it is not reading any data from disk.\n",
    "\n",
    "\n",
    "### Dask chunks\n",
    "\n",
    "After adding the `dask_chunks` parameter to `dc.load()`, the lazy-loaded data contains `dask.array` objects with\n",
    "the `chunksize` listed. The `chunksize` should match the `dask_chunks` parameter originally passed to `dc.load()`.\n",
    "\n",
    "Dask works by breaking up large datasets into chunks, which can be read individually. You may specify the number of\n",
    "pixels in each chunk for each dataset dimension.\n",
    "\n",
    "For example, we passed the following chunk definition to `dc.load()`:\n",
    "\n",
    "```\n",
    "dask_chunks = {\n",
    "    'time': 1,\n",
    "    'x': 10000,\n",
    "    'y': 10000\n",
    "}\n",
    "```\n",
    "\n",
    "This definition tells Dask to cut the data into chunks containing 10000 pixels in the `x` and `y` dimensions and one\n",
    "measurement in the `time` dimension. For DESA, we always set `'time': 1` in the `dask_chunk` definition, since the\n",
    "data files only span a single time.\n",
    "\n",
    "If a chunk size is not provided for a given dimension, or if it set to -1, then the chunk will be set to the size\n",
    "of the array in that dimension. This means all the data in that dimension will be loaded at once, rather than being\n",
    "broken into smaller chunks.\n",
    "\n",
    "\n",
    "### Viewing Dask chunks\n",
    "\n",
    "To get a visual intuition for how the data has been broken into chunks, we can use the `.data` attribute provided\n",
    "by `xarray`. This attribute can be used on individual measurements from the lazy-loaded data. When used in a Jupyter\n",
    "Notebook, it provides a table summarising the size of individual chunks and the number of chunks needed.\n",
    "\n",
    "An example is shown below, using the `red` measurement from the lazy-loaded data:"
   ]
  },
  {
   "cell_type": "code",
   "execution_count": null,
   "metadata": {},
   "outputs": [],
   "source": [
    "lazy_data.red.data"
   ]
  },
  {
   "cell_type": "markdown",
   "metadata": {},
   "source": [
    "From the Chunk column of the table, we can see that the data has been broken into 48 chunks, with each chunk having a\n",
    "shape of `(1 time, 3000 pixels, 3000 pixels)` and taking up 18.00MB of memory.\n",
    "Comparing this with the Array column, using Dask means that we can load 48 lots of 18.00MB. rather than one lot\n",
    "of 672.83.\n",
    "\n",
    "This is valuable when it comes to working with large areas or time-spans, as the entire array may not always fit into\n",
    "the memory available. Breaking large datasets into chunks and loading chunks one at a time means that you can do\n",
    "computations over large areas without crashing the DESA environment.\n",
    "\n",
    "\n",
    "## Loading lazy data\n",
    "\n",
    "When working with lazy-loaded data, you have to specifically ask Dask to read and load data when you want to use it. \n",
    "Until you do this, the lazy-loaded dataset only knows where the data is, not its values.\n",
    "\n",
    "To load the data from disk, call `.load()` on the `DataArray` or `Dataset`.\n",
    "If you opened the Dask progress window, you should see the computation proceed there."
   ]
  },
  {
   "cell_type": "code",
   "execution_count": null,
   "metadata": {},
   "outputs": [],
   "source": [
    "loaded_data = lazy_data.load()"
   ]
  },
  {
   "cell_type": "code",
   "execution_count": null,
   "metadata": {},
   "outputs": [],
   "source": [
    "loaded_data"
   ]
  },
  {
   "cell_type": "markdown",
   "metadata": {},
   "source": [
    "The Daks arrays constructed by the lazy load\n",
    "\n",
    "```\n",
    "red      (time, y, x) uint16 dask.array<chunksize=(1, 3000, 3000), meta=np.ndarray>\n",
    "```\n",
    "\n",
    "have now been replaced with actual numbers:\n",
    "\n",
    "```\n",
    "red      (time, y, x) uint16 10967 11105 10773 10660 ... 12431 12410 12313\n",
    "```\n",
    "\n",
    "After applying the `.load()` command, the lazy-loaded data is the same as the data loaded from the first query.\n",
    "\n",
    "\n",
    "## Lazy operations\n",
    "\n",
    "In addition to breaking data into smaller chunks that fit in memory, Dask has another advantage in that it can track\n",
    "how you want to work with the data, then only perform the necessary operations later.\n",
    "\n",
    "We'll now explore how to do this by calculating the normalised difference vegetation index (NDVI) for our data.\n",
    "To do this, we'll perform the lazy-load operation again, this time adding the near-infrared band (`nir`) to\n",
    "the `dc.load()` command:"
   ]
  },
  {
   "cell_type": "code",
   "execution_count": null,
   "metadata": {},
   "outputs": [],
   "source": [
    "lazy_data = dc.load(\n",
    "    product='ga_ls8c_gm_2_annual',\n",
    "    measurements=[\n",
    "        'red',\n",
    "        'green',\n",
    "        'blue',\n",
    "        'nir'\n",
    "    ],\n",
    "    x=(24, 25.5),\n",
    "    y=(-21.5, -20),\n",
    "    time=(\"2018-01-01\", \"2018-12-31\"),\n",
    "    dask_chunks={\n",
    "        'time': 1,\n",
    "        'x': 3000,\n",
    "        'y': 3000\n",
    "    }\n",
    ")\n",
    "\n",
    "lazy_data"
   ]
  },
  {
   "cell_type": "markdown",
   "metadata": {},
   "source": [
    "### Task graphs\n",
    "\n",
    "When using lazy-loading, Dask breaks up the loading operation into a series of steps.\n",
    "A useful way to visualise the steps is the task graph, which can be accessed by adding the `.visualize()` method\n",
    "to a `.data` call:"
   ]
  },
  {
   "cell_type": "code",
   "execution_count": null,
   "metadata": {},
   "outputs": [],
   "source": [
    "lazy_data.red.data.visualize()"
   ]
  },
  {
   "cell_type": "markdown",
   "metadata": {},
   "source": [
    "**The task graph is read from bottom to top.**\n",
    "\n",
    "1. The four rectangles at the bottom of the graph are the database entries representing the files that need to be\n",
    "   read to load the data.\n",
    "\n",
    "2. Above the rectangles are individual load commands (in the circles) that will do the reading. There is one for each\n",
    "   chunk. The arrows describe which files need to be read for each operation: the chunk on the left needs data from\n",
    "   all four database entries, whereas the chunk on the right only needs data from one.\n",
    "\n",
    "3. At the very top are the indexes of the chunks that will make up the final array.\n",
    "\n",
    "\n",
    "### Adding more tasks\n",
    "\n",
    "The power of this method comes from chaining tasks together before loading the data.\n",
    "This is because Dask will only load the data that is required by the final operation in the chain.\n",
    "\n",
    "We can demonstrate this by requesting only a small portion of the red band.\n",
    "If we do this for the lazy-loaded data, we can view the new task graph:"
   ]
  },
  {
   "cell_type": "code",
   "execution_count": null,
   "metadata": {},
   "outputs": [],
   "source": [
    "extract_from_red = lazy_data.red[:, 100:200, 100:200]\n",
    "extract_from_red.data.visualize()"
   ]
  },
  {
   "cell_type": "markdown",
   "metadata": {},
   "source": [
    "Notice that the new task `getitem` has been added, and that it only applies to the left-most chunk.\n",
    "If we call `.load()` on the `extract_from_red` Dask array, Dask traces the operation back through the graph to find\n",
    "only the relevant data. This can save both memory and time.\n",
    "\n",
    "We can establish that the above operation yields the same result as loading the data without Dask and subsetting it\n",
    "by running the command below:"
   ]
  },
  {
   "cell_type": "code",
   "execution_count": null,
   "metadata": {},
   "outputs": [],
   "source": [
    "lazy_red_subset = extract_from_red.load()\n",
    "data_red_subset = data.red[:, 100:200, 100:200]\n",
    "\n",
    "print(f\"The loaded arrays match: {lazy_red_subset.equals(data_red_subset)}\")"
   ]
  },
  {
   "cell_type": "markdown",
   "metadata": {},
   "source": [
    "Since the arrays are the same, it is worth using lazy-loading to chain operations together, then calling `.load()`\n",
    "when you're ready to get the answer. This saves time and memory, since Dask will only load the input data that is\n",
    "required to get the final output. In this example, the lazy-load only needed to load a small section of the `red`\n",
    "band, whereas the original load to get `data` had to load the `red`, `green` and `blue` bands, then subset\n",
    "the `red` band, meaning time was spent loading data that wasn't used.\n",
    "\n",
    "\n",
    "### Multiple tasks\n",
    "\n",
    "The power of using lazy-loading in Dask is that you can continue to chain operations together until you are ready to\n",
    "get the answer. Here, we chain multiple steps together to calculate a new band for our array. Specifically, we use\n",
    "the `red` and `nir` bands to calculate the normalized difference vegetation index:"
   ]
  },
  {
   "cell_type": "code",
   "execution_count": null,
   "metadata": {},
   "outputs": [],
   "source": [
    "band_diff = lazy_data.nir - lazy_data.red\n",
    "band_sum = lazy_data.nir + lazy_data.red\n",
    "\n",
    "lazy_data['ndvi'] = band_diff / band_sum"
   ]
  },
  {
   "cell_type": "markdown",
   "metadata": {},
   "source": [
    "Doing this adds the new `ndvi` Dask array to the `lazy_data` dataset:"
   ]
  },
  {
   "cell_type": "code",
   "execution_count": null,
   "metadata": {},
   "outputs": [],
   "source": [
    "lazy_data"
   ]
  },
  {
   "cell_type": "markdown",
   "metadata": {},
   "source": [
    "Now that the operation is defined, we can view its task graph:"
   ]
  },
  {
   "cell_type": "code",
   "execution_count": null,
   "metadata": {},
   "outputs": [],
   "source": [
    "lazy_data.ndvi.data.visualize()"
   ]
  },
  {
   "cell_type": "markdown",
   "metadata": {},
   "source": [
    "Reading the graph bottom-to-top, we can see the equation taking place. The `add` and `sub` are performed on each band\n",
    "before being divided.\n",
    "\n",
    "We can see how each output chunk is independent from the others.  This means we could calculate each chunk without\n",
    "ever having to load all of the bands into memory at the same time.\n",
    "\n",
    "Finally, we can calculate the NDVI values by calling the `.load()` command. We'll store the result in the `ndvi_load`\n",
    "variable:"
   ]
  },
  {
   "cell_type": "code",
   "execution_count": null,
   "metadata": {},
   "outputs": [],
   "source": [
    "ndvi_load = lazy_data.ndvi.load()\n",
    "ndvi_load"
   ]
  },
  {
   "cell_type": "markdown",
   "metadata": {},
   "source": [
    "Note that running the `.load()` command also modifies the `ndvi` entry in the `lazy_load` dataset:"
   ]
  },
  {
   "cell_type": "code",
   "execution_count": null,
   "metadata": {},
   "outputs": [],
   "source": [
    "lazy_data"
   ]
  },
  {
   "cell_type": "markdown",
   "metadata": {},
   "source": [
    "You can see that `ndvi` is a number, whereas all the other variables are Dask arrays.\n",
    "\n",
    "\n",
    "### Keeping variables as Dask arrays\n",
    "\n",
    "If you wanted to calculate the NDVI values, but leave `ndvi` as a dask array in `lazy_load`, you can use\n",
    "the `.compute()` command instead. To demonstrate this, we first redefine the `ndvi` variable so that it becomes a\n",
    "Dask array again"
   ]
  },
  {
   "cell_type": "code",
   "execution_count": null,
   "metadata": {},
   "outputs": [],
   "source": [
    "lazy_data['ndvi'] = band_diff / band_sum\n",
    "lazy_data"
   ]
  },
  {
   "cell_type": "markdown",
   "metadata": {},
   "source": [
    "Now, we perform the same steps as before to calculate NDVI, but use `.compute()` instead of `.load():`"
   ]
  },
  {
   "cell_type": "code",
   "execution_count": null,
   "metadata": {},
   "outputs": [],
   "source": [
    "ndvi_compute = lazy_data.ndvi.compute()\n",
    "ndvi_compute"
   ]
  },
  {
   "cell_type": "markdown",
   "metadata": {},
   "source": [
    "You can see that the values have been calculated, but as shown below, the `ndvi` variable is kept as a Dask array."
   ]
  },
  {
   "cell_type": "code",
   "execution_count": null,
   "metadata": {},
   "outputs": [],
   "source": [
    "lazy_data"
   ]
  },
  {
   "cell_type": "markdown",
   "metadata": {},
   "source": [
    "Using `.compute()` can allow you to calculate in-between steps and store the results, without modifying the original\n",
    "Dask dataset or array. However, be careful when using `.compute()`, as it may lead to confusion about what you have\n",
    "and have not modified, as well as multiple computations of the same quantity."
   ]
  },
  {
   "cell_type": "markdown",
   "metadata": {
    "pycharm": {
     "name": "#%% md\n"
    }
   },
   "source": [
    "## Further Resources\n",
    "\n",
    "For further reading on how Dask works, and how it is used by xarray, see these resources:\n",
    "\n",
    "- <http://xarray.pydata.org/en/stable/dask.html>\n",
    "- <https://dask.readthedocs.io/en/latest/>\n",
    "- <http://stephanhoyer.com/2015/06/11/xray-dask-out-of-core-labeled-arrays/>\n",
    "\n",
    "\n",
    "### Other notebooks\n",
    "\n",
    "This is the last notebook in the beginner's guide; if anything was unclear, we recommend revising the relevant notebook:\n",
    "\n",
    "1. [Jupyter Notebooks](01_Jupyter_notebooks.ipynb)\n",
    "2. [Products and Measurements](02_Products_and_measurements.ipynb)\n",
    "3. [Loading data](03_Loading_data.ipynb)\n",
    "4. [Plotting](04_Plotting.ipynb)\n",
    "5. [Performing a basic analysis](05_Basic_analysis.ipynb)\n",
    "6. [Introduction to numpy](06_Intro_to_numpy.ipynb)\n",
    "7. [Introduction to xarray](07_Intro_to_xarray.ipynb)\n",
    "8. **Parallel processing with Dask (this notebook)**\n",
    "\n",
    "Once you have completed the above eight tutorials, join advanced users in exploring:\n",
    "\n",
    "- The \"Datasets\" directory in the repository, where you can explore DE Africa products in depth.\n",
    "- The \"Frequently used code\" directory, which contains a recipe book of common techniques and methods for analysing DE Africa data.\n",
    "- The \"Real-world examples\" directory, which provides more complex workflows and analysis case studies."
   ]
  }
 ],
 "metadata": {
  "kernelspec": {
   "display_name": "Python 3",
   "language": "python",
   "name": "python3"
  },
  "language_info": {
   "codemirror_mode": {
    "name": "ipython",
    "version": 3
   },
   "file_extension": ".py",
   "mimetype": "text/x-python",
   "name": "python",
   "nbconvert_exporter": "python",
   "pygments_lexer": "ipython3",
   "version": "3.6.9"
  },
  "widgets": {
   "application/vnd.jupyter.widget-state+json": {
    "state": {},
    "version_major": 2,
    "version_minor": 0
   }
  }
 },
 "nbformat": 4,
 "nbformat_minor": 4
}