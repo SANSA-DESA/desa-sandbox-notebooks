{
 "cells": [
  {
   "cell_type": "markdown",
   "metadata": {},
   "source": [
    "# Introduction to xarray\n",
    "\n",
    "- **Prerequisites**:  Users of this notebook should have a basic understanding of:\n",
    "    - How to run a [Jupyter notebook](01_jupyter_notebooks.ipynb)\n",
    "    - How to work with [numpy](06_Intro_to_numpy.ipynb)\n",
    "\n",
    "\n",
    "## Background\n",
    "\n",
    "`Xarray` is a python library which simplifies working with labelled multi-dimension arrays. `Xarray` introduces\n",
    "labels in the forms of dimensions, coordinates and attributes on top of raw `numpy` arrays, allowing for more\n",
    "intuitive and concise development. More information about `xarray` data structures and functions can be\n",
    "found [here](http://xarray.pydata.org/en/stable/).\n",
    "\n",
    "Once you've completed this notebook, you may be interested in advancing your xarray skills further,\n",
    "this [external notebook](https://rabernat.github.io/research_computing/xarray.html) introduces more uses of\n",
    "xarray and may help you advance your skills further.\n",
    "\n",
    "\n",
    "## Description\n",
    "\n",
    "This notebook is designed to introduce users to `xarray` using Python code in Jupyter Notebooks via JupyterLab.\n",
    "\n",
    "Topics covered include:\n",
    "\n",
    "- How to use xarray functions in a Jupyter Notebook cell\n",
    "- How to access xarray dimensions and metadata\n",
    "- Using indexing to explore multi-dimensional xarray data\n",
    "- Appliction of built-in xarray functions such as sum, std and mean\n",
    "\n",
    "\n",
    "## Getting started\n",
    "\n",
    "To run this notebook, run all the cells in the notebook starting with the \"Load packages\" cell. For help with running\n",
    "notebook cells, refer back to the [Jupyter Notebooks notebook](01_Jupyter_notebooks.ipynb).\n",
    "\n",
    "### Load packages"
   ]
  },
  {
   "cell_type": "code",
   "execution_count": null,
   "metadata": {},
   "outputs": [],
   "source": [
    "%matplotlib inline\n",
    "import matplotlib.pyplot as plt\n",
    "import numpy as np\n",
    "import xarray as xr"
   ]
  },
  {
   "cell_type": "markdown",
   "metadata": {},
   "source": [
    "### Introduction to xarray\n",
    "\n",
    "DESA uses xarray as its core data model. To better understand what it is, let first do a simple experiment using a\n",
    "combination of plain numpy arrays and Python dictionaries.\n",
    "\n",
    "Suppose we have a satellite image with three bands: `Red`, `NIR` and `SWIR`. These bands are represented as\n",
    "2-dimensional numpy arrays and the latitude and longitude coordinates for each dimension are represented using\n",
    "1-dimensional arrays. Finally, we also have some metadata that comes with this image.  The code below creates fake\n",
    "satellite data and structures the data as a `dictionary`."
   ]
  },
  {
   "cell_type": "code",
   "execution_count": null,
   "metadata": {},
   "outputs": [],
   "source": [
    "#create fake satellite data\n",
    "red = np.random.rand(250,250)\n",
    "nir = np.random.rand(250,250)\n",
    "swir = np.random.rand(250,250)\n",
    "\n",
    "#create some lats and lons\n",
    "lats = np.linspace(-23.5, -26.0, num=red.shape[0], endpoint=False)\n",
    "lons = np.linspace(110.0, 112.5, num=red.shape[1], endpoint=False)\n",
    "\n",
    "#create metadata\n",
    "title = \"Image of the desert\"\n",
    "date = \"2019-11-10\"\n",
    "\n",
    "#stack into a dictionary\n",
    "image = {\n",
    "    \"red\": red,\n",
    "    \"nir\": nir,\n",
    "    \"swir\": swir,\n",
    "    \"latitude\": lats,\n",
    "    \"longitude\": lons,\n",
    "    \"title\": title,\n",
    "    \"date\": date\n",
    "}"
   ]
  },
  {
   "cell_type": "markdown",
   "metadata": {},
   "source": [
    "All our data is conveniently packed in a dictionary. Now we can use this dictionary to work with the data it contains:"
   ]
  },
  {
   "cell_type": "code",
   "execution_count": null,
   "metadata": {},
   "outputs": [],
   "source": [
    "# date of satellite image\n",
    "print(image[\"date\"])\n",
    "\n",
    "# mean of red values\n",
    "image[\"red\"].mean()"
   ]
  },
  {
   "cell_type": "markdown",
   "metadata": {},
   "source": [
    "Still, to select data we have to use numpy indexes. Wouldn't it be convenient to be able to select data from the\n",
    "images using the coordinates of the pixels instead of their relative positions?  This is exactly what `xarray`\n",
    "solves! Let's see how it works:\n",
    "\n",
    "To explore xarray we have a file containing some surface reflectance data extracted from the DE Africa platform.\n",
    "The object that we get `ds` is a xarray `Dataset`, which in some ways is very similar to the dictionary that we\n",
    "created before, but with lots of convenient functionality available."
   ]
  },
  {
   "cell_type": "code",
   "execution_count": null,
   "metadata": {},
   "outputs": [],
   "source": [
    "ds = xr.open_dataset('../Supplementary_data/07_Intro_to_xarray/example_netcdf.nc')\n",
    "ds"
   ]
  },
  {
   "cell_type": "markdown",
   "metadata": {},
   "source": [
    "### Xarray dataset structure\n",
    "\n",
    "A `Dataset` can be seen as a dictionary structure packing up the data, dimensions and attributes. Variables in\n",
    "a `Dataset` object are called `DataArrays` and they share dimensions with the higher level `Dataset`.\n",
    "The figure below provides an illustrative example:\n",
    "\n",
    "<img src=\"../Supplementary_data/07_Intro_to_xarray/dataset-diagram.png\" alt=\"drawing\" width=\"600\" align=\"left\"/>\n",
    "\n",
    "To access a variable we can access as if it were a Python dictionary, or using the `.` notation, which is more\n",
    "convenient."
   ]
  },
  {
   "cell_type": "code",
   "execution_count": null,
   "metadata": {},
   "outputs": [],
   "source": [
    "ds[\"green\"]\n",
    "\n",
    "# or alternatively\n",
    "ds.green"
   ]
  },
  {
   "cell_type": "markdown",
   "metadata": {},
   "source": [
    "Dimensions are also stored as numeric arrays that we can easily access"
   ]
  },
  {
   "cell_type": "code",
   "execution_count": null,
   "metadata": {},
   "outputs": [],
   "source": [
    "ds['time']\n",
    "\n",
    "# or alternatively\n",
    "ds.time"
   ]
  },
  {
   "cell_type": "markdown",
   "metadata": {},
   "source": [
    "Metadata is referred to as attributes and is internally stored under `.attrs`, but the same convenient `.` notation\n",
    "applies to them."
   ]
  },
  {
   "cell_type": "code",
   "execution_count": null,
   "metadata": {},
   "outputs": [],
   "source": [
    "ds.attrs['crs']\n",
    "\n",
    "# or alternatively\n",
    "ds.crs"
   ]
  },
  {
   "cell_type": "markdown",
   "metadata": {},
   "source": [
    "DataArrays store their data internally as multidimensional numpy arrays. But these arrays contain dimensions or\n",
    "labels that make it easier to handle the data. To access the underlying numpy array of a `DataArray` we can use\n",
    "the `.values` notation."
   ]
  },
  {
   "cell_type": "code",
   "execution_count": null,
   "metadata": {},
   "outputs": [],
   "source": [
    "arr = ds.green.values\n",
    "\n",
    "type(arr), arr.shape"
   ]
  },
  {
   "cell_type": "markdown",
   "metadata": {},
   "source": [
    "### Indexing\n",
    "\n",
    "Xarray offers two different ways of selecting data. This includes the `isel()` approach, where data can be selected\n",
    "based on its index (like numpy).\n"
   ]
  },
  {
   "cell_type": "code",
   "execution_count": null,
   "metadata": {},
   "outputs": [],
   "source": [
    "print(ds.time.values)\n",
    "\n",
    "ss = ds.green.isel(time=0)\n",
    "ss"
   ]
  },
  {
   "cell_type": "markdown",
   "metadata": {},
   "source": [
    "Or the `sel()` approach, used for selecting data based on its dimension of label value."
   ]
  },
  {
   "cell_type": "code",
   "execution_count": null,
   "metadata": {},
   "outputs": [],
   "source": [
    "ss = ds.green.sel(time='2018-01-08')\n",
    "ss"
   ]
  },
  {
   "cell_type": "markdown",
   "metadata": {},
   "source": [
    "Slicing data is also used to select a subset of data."
   ]
  },
  {
   "cell_type": "code",
   "execution_count": null,
   "metadata": {},
   "outputs": [],
   "source": [
    "ss.x.values[100]"
   ]
  },
  {
   "cell_type": "code",
   "execution_count": null,
   "metadata": {},
   "outputs": [],
   "source": [
    "ss = ds.green.sel(time='2018-01-08', x=slice(2378390,2380390))\n",
    "ss"
   ]
  },
  {
   "cell_type": "markdown",
   "metadata": {},
   "source": [
    "Xarray exposes lots of functions to easily transform and analyse `Datasets` and `DataArrays`. For example, to\n",
    "calculate the spatial mean, standard deviation or sum of the green band:"
   ]
  },
  {
   "cell_type": "code",
   "execution_count": null,
   "metadata": {},
   "outputs": [],
   "source": [
    "print(\"Mean of green band:\", ds.green.mean().values)\n",
    "print(\"Standard deviation of green band:\", ds.green.std().values)\n",
    "print(\"Sum of green band:\", ds.green.sum().values)"
   ]
  },
  {
   "cell_type": "markdown",
   "metadata": {},
   "source": [
    "### Plotting data with Matplotlib\n",
    "\n",
    "Plotting is also conveniently integrated in the library."
   ]
  },
  {
   "cell_type": "code",
   "execution_count": null,
   "metadata": {},
   "outputs": [],
   "source": [
    "ds[\"green\"].isel(time=0).plot()"
   ]
  },
  {
   "cell_type": "markdown",
   "metadata": {},
   "source": [
    "But we still can do things manually using numpy and matplotlib if you choose:"
   ]
  },
  {
   "cell_type": "code",
   "execution_count": null,
   "metadata": {},
   "outputs": [],
   "source": [
    "rgb = np.dstack(\n",
    "    (\n",
    "        ds.red.isel(time=0).values,\n",
    "        ds.green.isel(time=0).values,\n",
    "        ds.blue.isel(time=0).values\n",
    "    )\n",
    ")\n",
    "rgb = np.clip(rgb, 0, 2000) / 2000\n",
    "\n",
    "plt.imshow(rgb);"
   ]
  },
  {
   "cell_type": "markdown",
   "metadata": {},
   "source": [
    "But compare the above to elegantly chaining operations within xarray:"
   ]
  },
  {
   "cell_type": "code",
   "execution_count": null,
   "metadata": {},
   "outputs": [],
   "source": [
    "ds[['red', 'green', 'blue']].isel(time=0).to_array().plot.imshow(robust=True, figsize=(6, 6));"
   ]
  },
  {
   "cell_type": "markdown",
   "metadata": {
    "pycharm": {
     "name": "#%% md\n"
    }
   },
   "source": [
    "## Recommended next steps\n",
    "\n",
    "For more advanced information about working with Jupyter Notebooks or JupyterLab, you can explore [JupyterLab documentation page](https://jupyterlab.readthedocs.io/en/stable/user/notebook.html).\n",
    "\n",
    "To continue working through the notebooks in this beginner's guide, the following notebooks are designed to be worked through in the following order:\n",
    "\n",
    "1. [Jupyter Notebooks](01_Jupyter_notebooks.ipynb)\n",
    "2. [Products and Measurements](02_Products_and_measurements.ipynb)\n",
    "3. [Loading data](03_Loading_data.ipynb)\n",
    "4. [Plotting](04_Plotting.ipynb)\n",
    "5. [Performing a basic analysis](05_Basic_analysis.ipynb)\n",
    "6. [Introduction to numpy](06_Intro_to_numpy.ipynb)\n",
    "7. **Introduction to xarray (this notebook)**\n",
    "8. [Parallel processing with Dask](08_Parallel_processing_with_dask.ipynb)"
   ]
  }
 ],
 "metadata": {
  "kernelspec": {
   "display_name": "Python 3",
   "language": "python",
   "name": "python3"
  },
  "language_info": {
   "codemirror_mode": {
    "name": "ipython",
    "version": 3
   },
   "file_extension": ".py",
   "mimetype": "text/x-python",
   "name": "python",
   "nbconvert_exporter": "python",
   "pygments_lexer": "ipython3",
   "version": "3.8.8"
  },
  "widgets": {
   "application/vnd.jupyter.widget-state+json": {
    "state": {},
    "version_major": 2,
    "version_minor": 0
   }
  }
 },
 "nbformat": 4,
 "nbformat_minor": 4
}