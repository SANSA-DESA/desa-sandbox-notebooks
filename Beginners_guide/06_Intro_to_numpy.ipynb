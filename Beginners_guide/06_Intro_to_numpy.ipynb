{
 "cells": [
  {
   "cell_type": "markdown",
   "metadata": {},
   "source": [
    "# Introduction to Numpy\n",
    "\n",
    "- **Prerequisites**:  Users of this notebook should have a basic understanding of:\n",
    "    - How to run a [Jupyter notebook](01_jupyter_notebooks.ipynb)\n",
    "\n",
    "\n",
    "## Background\n",
    "\n",
    "Numpy is a Python library which adds support for large, multi-dimension arrays and metrics, along with a large\n",
    "collection of high-level mathematical functions to operate on these arrays. More information about Numpy arrays can\n",
    "be found [here](https://en.wikipedia.org/wiki/NumPy).\n",
    "\n",
    "\n",
    "## Description\n",
    "\n",
    "This notebook is designed to introduce users to Numpy arrays of using Python code in Jupyter Notebooks via JupyterLab.\n",
    "\n",
    "Topics covered include:\n",
    "\n",
    "* How to use Numpy functions in a Jupyter Notebook cell\n",
    "* Using indexing to explore multi-dimensional Numpy array data\n",
    "* Numpy data types, broadcasting and booleans\n",
    "* Using Matplotlib to plot Numpy data\n",
    "\n",
    "\n",
    "## Getting started\n",
    "\n",
    "To run this notebook, run all the cells in the notebook starting with the \"Load packages\" cell. For help with running\n",
    "notebook cells, refer back to the [Jupyter Notebooks notebook](01_Jupyter_notebooks.ipynb).\n",
    "\n",
    "\n",
    "### Load packages\n",
    "\n",
    "In order to be able to use numpy we need to import the library using the special word `import`. Also, to avoid\n",
    "typing `numpy` every time we want to use one if its functions we can provide an alias using the special word `as`:"
   ]
  },
  {
   "cell_type": "code",
   "execution_count": null,
   "metadata": {},
   "outputs": [],
   "source": [
    "import numpy as np"
   ]
  },
  {
   "cell_type": "markdown",
   "metadata": {},
   "source": [
    "### Introduction to Numpy\n",
    "\n",
    "Now, we have access to all the functions available in `numpy` by typing `np.name_of_function`. For example, the\n",
    "equivalent of `1 + 1` in Python can be done in `numpy`:"
   ]
  },
  {
   "cell_type": "code",
   "execution_count": null,
   "metadata": {},
   "outputs": [],
   "source": [
    "np.add(1,1)"
   ]
  },
  {
   "cell_type": "markdown",
   "metadata": {},
   "source": [
    "Although this might not at first seem very useful, even simple operations like this one can be much quicker\n",
    "in `numpy` than in standard Python when using lots of numbers (large arrays).\n",
    "\n",
    "To access the documentation explaining how a function is used, its input parameters and output format we can\n",
    "press `Shift+Tab` after the function name.  Try this in the cell below"
   ]
  },
  {
   "cell_type": "code",
   "execution_count": null,
   "metadata": {},
   "outputs": [],
   "source": [
    "np.add"
   ]
  },
  {
   "cell_type": "markdown",
   "metadata": {},
   "source": [
    "By default the result of a function or operation is shown underneath the cell containing the code. If we want to\n",
    "reuse this result for a later operation we can assign it to a variable:"
   ]
  },
  {
   "cell_type": "code",
   "execution_count": null,
   "metadata": {},
   "outputs": [],
   "source": [
    "a = np.add(2,3)"
   ]
  },
  {
   "cell_type": "markdown",
   "metadata": {},
   "source": [
    "The contents of this variable can be displayed at any moment by typing the variable name in a new cell:"
   ]
  },
  {
   "cell_type": "code",
   "execution_count": null,
   "metadata": {},
   "outputs": [],
   "source": [
    "a"
   ]
  },
  {
   "cell_type": "markdown",
   "metadata": {},
   "source": [
    "### Numpy arrays\n",
    "\n",
    "The core concept in numpy is the `array` which is equivalent to lists of numbers but can be multidimensional. To\n",
    "declare a numpy array we do:"
   ]
  },
  {
   "cell_type": "code",
   "execution_count": null,
   "metadata": {},
   "outputs": [],
   "source": [
    "np.array([1,2,3,4,5,6,7,8,9])"
   ]
  },
  {
   "cell_type": "markdown",
   "metadata": {},
   "source": [
    "Most of the functions and operations defined in numpy can be applied to arrays. For example, with the\n",
    "previous operation:"
   ]
  },
  {
   "cell_type": "code",
   "execution_count": null,
   "metadata": {},
   "outputs": [],
   "source": [
    "arr1 = np.array([1,2,3,4])\n",
    "arr2 = np.array([3,4,5,6])\n",
    "\n",
    "np.add(arr1, arr2)"
   ]
  },
  {
   "cell_type": "markdown",
   "metadata": {},
   "source": [
    "But a more simple and convenient notation can also be used:"
   ]
  },
  {
   "cell_type": "code",
   "execution_count": null,
   "metadata": {},
   "outputs": [],
   "source": [
    "arr1 + arr2"
   ]
  },
  {
   "cell_type": "markdown",
   "metadata": {},
   "source": [
    "#### Indexing\n",
    "\n",
    "Arrays can be sliced and diced. We can get subsets of the arrays using the indexing notation which\n",
    "is `[start:end:stride]`. Let's see what this means:"
   ]
  },
  {
   "cell_type": "code",
   "execution_count": null,
   "metadata": {},
   "outputs": [],
   "source": [
    "arr = np.array([0,1,2,3,4,5,6,7,8,9,10,11,12,13,14,15])\n",
    "\n",
    "print('6th element in the array:', arr[5])\n",
    "print('6th element to the end of array', arr[5:])\n",
    "print('start of array to the 5th element', arr[:5])\n",
    "print('every second element', arr[::2])"
   ]
  },
  {
   "cell_type": "markdown",
   "metadata": {},
   "source": [
    "Try experimenting with the indices to understand the meaning of `start`, `end` and `stride`. What happens if you\n",
    "don't specify a start? What value does numpy uses instead? Note that numpy indexes start on `0`, the same convention\n",
    "used in Python lists.\n",
    "\n",
    "Indexes can also be negative, meaning that you start counting from the end. For example, to select the last 2 elements\n",
    "in an array we can do:"
   ]
  },
  {
   "cell_type": "code",
   "execution_count": null,
   "metadata": {},
   "outputs": [],
   "source": [
    "arr[-2:]"
   ]
  },
  {
   "cell_type": "markdown",
   "metadata": {},
   "source": [
    "### Multi-dimensional arrays\n",
    "\n",
    "Numpy arrays can have multiple dimensions. For example, we define a 2-dimensional `(1,9)` array using nested\n",
    "square bracket:\n",
    "\n",
    "<img src=\"../Supplementary_data/06_Intro_to_numpy/numpy_array_t.png\" alt=\"drawing\" width=\"600\" align=\"left\"/>"
   ]
  },
  {
   "cell_type": "code",
   "execution_count": null,
   "metadata": {},
   "outputs": [],
   "source": [
    "np.array([[1,2,3,4,5,6,7,8,9]])"
   ]
  },
  {
   "cell_type": "markdown",
   "metadata": {},
   "source": [
    "To visualise the shape or dimensions of a numpy array we can add the suffix `.shape`"
   ]
  },
  {
   "cell_type": "code",
   "execution_count": null,
   "metadata": {},
   "outputs": [],
   "source": [
    "print(np.array([1,2,3,4,5,6,7,8,9]).shape)\n",
    "print(np.array([[1,2,3,4,5,6,7,8,9]]).shape)\n",
    "print(np.array([[1],[2],[3],[4],[5],[6],[7],[8],[9]]).shape)"
   ]
  },
  {
   "cell_type": "markdown",
   "metadata": {},
   "source": [
    "Any array can be reshaped into different shapes using the function `reshape`:"
   ]
  },
  {
   "cell_type": "code",
   "execution_count": null,
   "metadata": {},
   "outputs": [],
   "source": [
    "np.array([1,2,3,4,5,6,7,8]).reshape((2,4))"
   ]
  },
  {
   "cell_type": "markdown",
   "metadata": {},
   "source": [
    "If you are concerned about having to type so many squared brackets, there are more simple and convenient ways of doing\n",
    "the same:"
   ]
  },
  {
   "cell_type": "code",
   "execution_count": null,
   "metadata": {},
   "outputs": [],
   "source": [
    "print(np.array([1,2,3,4,5,6,7,8,9]).reshape(1,9).shape)\n",
    "print(np.array([1,2,3,4,5,6,7,8,9]).reshape(9,1).shape)\n",
    "print(np.array([1,2,3,4,5,6,7,8,9]).reshape(3,3).shape)"
   ]
  },
  {
   "cell_type": "markdown",
   "metadata": {},
   "source": [
    "Also there are shortcuts for declaring common arrays without having to type all their elements:"
   ]
  },
  {
   "cell_type": "code",
   "execution_count": null,
   "metadata": {},
   "outputs": [],
   "source": [
    "print(np.arange(9))\n",
    "print(np.ones((3,3)))\n",
    "print(np.zeros((2,2,2)))"
   ]
  },
  {
   "cell_type": "markdown",
   "metadata": {},
   "source": [
    "### Arithmetic operations"
   ]
  },
  {
   "cell_type": "markdown",
   "metadata": {},
   "source": [
    "Numpy has many useful arithmetic functions. Below we demonstrate a few of these, such as mean, standard deviation and\n",
    "sum of the elements of an array. These operations can be performed either across the entire array, or across a\n",
    "specified dimension."
   ]
  },
  {
   "cell_type": "code",
   "execution_count": null,
   "metadata": {},
   "outputs": [],
   "source": [
    "arr = np.arange(9).reshape((3,3))\n",
    "print(arr)"
   ]
  },
  {
   "cell_type": "code",
   "execution_count": null,
   "metadata": {},
   "outputs": [],
   "source": [
    "print('Mean of all elements in the array:', np.mean(arr))\n",
    "print('Std dev of all elements in the array:', np.std(arr))\n",
    "print('Sum of all elements in the array:', np.sum(arr))\n",
    "print('Mean of elements in array axis 0:', np.mean(arr, axis=0))\n",
    "print('Mean of elements in array axis 1:', np.mean(arr, axis=1))"
   ]
  },
  {
   "cell_type": "markdown",
   "metadata": {},
   "source": [
    "### Numpy data types\n",
    "Numpy arrays can contain numerical values of different types. These types can be divided in these groups:\n",
    "\n",
    " * Integers\n",
    "    * Unsigned\n",
    "        * 8 bits: `uint8`\n",
    "        * 16 bits: `uint16`\n",
    "        * 32 bits: `uint32`\n",
    "        * 64 bits: `uint64`\n",
    "    * Signed\n",
    "        * 8 bits: `int8`\n",
    "        * 16 bits: `int16`\n",
    "        * 32 bits: `int32`\n",
    "        * 64 bits: `int64`\n",
    "\n",
    "* Floats\n",
    "    * 32 bits: `float32`\n",
    "    * 64 bits: `float64`\n",
    "    \n",
    "We can specify the type of an array when we declare it, or change the data type of an existing one with the following\n",
    "expressions:"
   ]
  },
  {
   "cell_type": "code",
   "execution_count": null,
   "metadata": {},
   "outputs": [],
   "source": [
    "#set datatype when declaring array\n",
    "arr = np.arange(5, dtype=np.uint8)\n",
    "print('Integer datatype:', arr)\n",
    "\n",
    "arr = arr.astype(np.float32)\n",
    "print('Float datatype:', arr)"
   ]
  },
  {
   "cell_type": "markdown",
   "metadata": {},
   "source": [
    "### Broadcasting\n",
    "\n",
    "The term broadcasting describes how numpy treats arrays with different shapes during arithmetic operations. Subject\n",
    "to certain constraints, the smaller array is “broadcast” across the larger array so that they have compatible shapes.\n",
    "Broadcasting provides a means of vectorizing array operations so that looping occurs in C instead of Python. This\n",
    "can make operations very fast."
   ]
  },
  {
   "cell_type": "code",
   "execution_count": null,
   "metadata": {},
   "outputs": [],
   "source": [
    "a = np.zeros((3,3))\n",
    "print(a)\n",
    "\n",
    "a = a + 1\n",
    "\n",
    "print(a)\n",
    "\n",
    "a = np.arange(9).reshape((3,3))\n",
    "\n",
    "b = np.arange(3)\n",
    "\n",
    "a + b"
   ]
  },
  {
   "cell_type": "markdown",
   "metadata": {},
   "source": [
    "### Booleans\n",
    "\n",
    "There is a binary type in numpy called boolean which encodes `True` and `False` values. For example:"
   ]
  },
  {
   "cell_type": "code",
   "execution_count": null,
   "metadata": {},
   "outputs": [],
   "source": [
    "arr = (arr > 0)\n",
    "\n",
    "print(arr)\n",
    "\n",
    "arr.dtype"
   ]
  },
  {
   "cell_type": "markdown",
   "metadata": {},
   "source": [
    "Boolean types are quite handy for indexing and selecting parts of images as we will see later. Many numpy functions\n",
    "also work with Boolean types."
   ]
  },
  {
   "cell_type": "code",
   "execution_count": null,
   "metadata": {},
   "outputs": [],
   "source": [
    "print(\"Number of 'Trues' in arr:\", np.count_nonzero(arr))\n",
    "\n",
    "#create two boolean arrays\n",
    "a = np.array([1,1,0,0], dtype=bool)\n",
    "b = np.array([1,0,0,1], dtype=bool)\n",
    "\n",
    "#compare where they match\n",
    "np.logical_and(a, b)"
   ]
  },
  {
   "cell_type": "markdown",
   "metadata": {},
   "source": [
    "### Introduction to Matplotlib\n",
    "\n",
    "This second part introduces matplotlib, a Python library for plotting numpy arrays as images. For the purposes of\n",
    "this tutorial we are going to use a part of matplotlib called pyplot. We import it by doing:"
   ]
  },
  {
   "cell_type": "code",
   "execution_count": null,
   "metadata": {},
   "outputs": [],
   "source": [
    "%matplotlib inline\n",
    "\n",
    "from matplotlib import pyplot as plt"
   ]
  },
  {
   "cell_type": "markdown",
   "metadata": {},
   "source": [
    "An image can be seen as a 2-dimensional array. To visualise the contents of a numpy array:"
   ]
  },
  {
   "cell_type": "code",
   "execution_count": null,
   "metadata": {},
   "outputs": [],
   "source": [
    "arr = np.arange(100).reshape(10,10)\n",
    "\n",
    "print(arr)\n",
    "\n",
    "plt.imshow(arr)"
   ]
  },
  {
   "cell_type": "markdown",
   "metadata": {},
   "source": [
    "We can use the Pyplot library to load an image using the function `imread`:"
   ]
  },
  {
   "cell_type": "code",
   "execution_count": null,
   "metadata": {},
   "outputs": [],
   "source": [
    "im = np.copy(plt.imread('../Supplementary_data/06_Intro_to_numpy/africa.png'))"
   ]
  },
  {
   "cell_type": "markdown",
   "metadata": {},
   "source": [
    "#### Let's display this image using the `imshow` function."
   ]
  },
  {
   "cell_type": "code",
   "execution_count": null,
   "metadata": {},
   "outputs": [],
   "source": [
    "plt.imshow(im)"
   ]
  },
  {
   "cell_type": "markdown",
   "metadata": {},
   "source": [
    "This is a [free stock photo](https://depositphotos.com/42725091/stock-photo-kilimanjaro.html) of Mount Kilimanjaro,\n",
    "Tanzania. A colour image is normally composed of three layers containing the values of the red, green and blue pixels.\n",
    "When we display an image we see all three colours combined.\n",
    "\n",
    "Let's use the indexing functionality of numpy to select a slice of this image. For example to select the top\n",
    "right corner:"
   ]
  },
  {
   "cell_type": "code",
   "execution_count": null,
   "metadata": {},
   "outputs": [],
   "source": [
    "plt.imshow(im[:100,-200:,:])"
   ]
  },
  {
   "cell_type": "markdown",
   "metadata": {},
   "source": [
    "We can also replace values in the 'red' layer with the value 255, making the image 'reddish'. Give it a try:"
   ]
  },
  {
   "cell_type": "code",
   "execution_count": null,
   "metadata": {},
   "outputs": [],
   "source": [
    "im[:,:,0] = 255\n",
    "plt.imshow(im)"
   ]
  },
  {
   "cell_type": "markdown",
   "metadata": {
    "pycharm": {
     "name": "#%% md\n"
    }
   },
   "source": [
    "## Recommended next steps\n",
    "\n",
    "For more advanced information about working with Jupyter Notebooks or JupyterLab, you can\n",
    "explore [JupyterLab documentation page](https://jupyterlab.readthedocs.io/en/stable/user/notebook.html).\n",
    "\n",
    "To continue working through the notebooks in this beginner's guide, the following notebooks are designed to be worked through in the following order:\n",
    "\n",
    "1. [Jupyter Notebooks](01_Jupyter_notebooks.ipynb)\n",
    "2. [Products and Measurements](02_Products_and_measurements.ipynb)\n",
    "3. [Loading data](03_Loading_data.ipynb)\n",
    "4. [Plotting](04_Plotting.ipynb)\n",
    "5. [Performing a basic analysis](05_Basic_analysis.ipynb)\n",
    "6. **Introduction to numpy (this notebook)**\n",
    "7. [Introduction to xarray](07_Intro_to_xarray.ipynb)\n",
    "8. [Parallel processing with Dask](08_Parallel_processing_with_dask.ipynb)"
   ]
  }
 ],
 "metadata": {
  "kernelspec": {
   "display_name": "Python 3",
   "language": "python",
   "name": "python3"
  },
  "language_info": {
   "codemirror_mode": {
    "name": "ipython",
    "version": 3
   },
   "file_extension": ".py",
   "mimetype": "text/x-python",
   "name": "python",
   "nbconvert_exporter": "python",
   "pygments_lexer": "ipython3",
   "version": "3.8.8"
  },
  "widgets": {
   "application/vnd.jupyter.widget-state+json": {
    "state": {},
    "version_major": 2,
    "version_minor": 0
   }
  }
 },
 "nbformat": 4,
 "nbformat_minor": 4
}